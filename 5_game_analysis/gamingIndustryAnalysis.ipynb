{
 "cells": [
  {
   "cell_type": "markdown",
   "metadata": {},
   "source": [
    "# Исследование закономерностей, влияющих на успешность компьютерной игры."
   ]
  },
  {
   "cell_type": "markdown",
   "metadata": {},
   "source": [
    "## Цель.\n",
    "Финальной целью данной работы является увеличение эффективности рекламной компании интернет-магазина компьютерных игр, от нас требуется определить закономерности в данных, которые указывают на потенциально успешные игры.\n",
    "\n",
    "## Данные.\n",
    "Нам предаставлена таблица games.csv содержащая следующие столбцы:\n",
    "\n",
    "    Name — название игры\n",
    "    Platform — платформа\n",
    "    Year_of_Release — год выпуска\n",
    "    Genre — жанр игры\n",
    "    NA_sales — продажи в Северной Америке (миллионы проданных копий)\n",
    "    EU_sales — продажи в Европе (миллионы проданных копий)\n",
    "    JP_sales — продажи в Японии (миллионы проданных копий)\n",
    "    Other_sales — продажи в других странах (миллионы проданных копий)\n",
    "    Critic_Score — оценка критиков (максимум 100)\n",
    "    User_Score — оценка пользователей (максимум 10)\n",
    "    Rating — рейтинг от организации ESRB (англ. Entertainment Software Rating Board). \n",
    "\n",
    "\n",
    "## План работ.\n",
    "- Изучим данные, найдем возможные ошибки.\n",
    "- Предобработаем данные, приведем столбцы к нужным типам, обработаем пропуски и найденные ошибки.\n",
    "- Рассчитаем суммарные продажи по всем регионам.\n",
    "- Проведем исследовательский анализ данных:\n",
    "    - Оценим количество выпускаемых игр по годам, определим важный для анализа период выхода игр;\n",
    "    - Исследуем популярность разных платформ по времени, определим характерный срок популярности платформы;\n",
    "    - Определим актуальный период, который поможет построить прогноз на 2017 год;\n",
    "    - Определим потенциально прибыльные платформы;\n",
    "    - Оценим влияние отзывов на продажи игр внутри одной платформы;\n",
    "    - Исследуем общее распределение игр по жанрам, найдем самые прибыльные жанры.\n",
    "   \n",
    "- Составим портрет пользователя каждого региона, определим для него:\n",
    "     - Самые популярные платформы;\n",
    "     - Самые популярные жанры;\n",
    "     - Влияние рейтинг ESRB на продажи в регионах.\n",
    "     \n",
    "- Проверим две гипотезы:\n",
    "    - Средние пользовательские рейтинги платформ Xbox One и PC одинаковые;\n",
    "    - Средние пользовательские рейтинги жанров Action (англ. «действие», экшен-игры) и Sports (англ. «спортивные соревнования») разные.\n"
   ]
  },
  {
   "cell_type": "code",
   "execution_count": 1,
   "metadata": {},
   "outputs": [],
   "source": [
    "import pandas as pd\n",
    "import numpy as np\n",
    "import seaborn as sns\n",
    "import matplotlib.pyplot as plt\n",
    "\n",
    "from scipy import stats as st"
   ]
  },
  {
   "cell_type": "markdown",
   "metadata": {},
   "source": [
    "## 1. Предобработка данных.\n",
    "\n",
    "### 1.1 Анализ входных данных."
   ]
  },
  {
   "cell_type": "code",
   "execution_count": 2,
   "metadata": {
    "scrolled": true
   },
   "outputs": [],
   "source": [
    "game_data = pd.read_csv('/datasets/games.csv')\n",
    "data_shape = game_data.shape[0]"
   ]
  },
  {
   "cell_type": "code",
   "execution_count": 3,
   "metadata": {},
   "outputs": [
    {
     "name": "stdout",
     "output_type": "stream",
     "text": [
      "<class 'pandas.core.frame.DataFrame'>\n",
      "RangeIndex: 16715 entries, 0 to 16714\n",
      "Data columns (total 11 columns):\n",
      "Name               16713 non-null object\n",
      "Platform           16715 non-null object\n",
      "Year_of_Release    16446 non-null float64\n",
      "Genre              16713 non-null object\n",
      "NA_sales           16715 non-null float64\n",
      "EU_sales           16715 non-null float64\n",
      "JP_sales           16715 non-null float64\n",
      "Other_sales        16715 non-null float64\n",
      "Critic_Score       8137 non-null float64\n",
      "User_Score         10014 non-null object\n",
      "Rating             9949 non-null object\n",
      "dtypes: float64(6), object(5)\n",
      "memory usage: 1.4+ MB\n"
     ]
    }
   ],
   "source": [
    "game_data.info()"
   ]
  },
  {
   "cell_type": "code",
   "execution_count": 4,
   "metadata": {},
   "outputs": [
    {
     "data": {
      "text/html": [
       "<div>\n",
       "<style scoped>\n",
       "    .dataframe tbody tr th:only-of-type {\n",
       "        vertical-align: middle;\n",
       "    }\n",
       "\n",
       "    .dataframe tbody tr th {\n",
       "        vertical-align: top;\n",
       "    }\n",
       "\n",
       "    .dataframe thead th {\n",
       "        text-align: right;\n",
       "    }\n",
       "</style>\n",
       "<table border=\"1\" class=\"dataframe\">\n",
       "  <thead>\n",
       "    <tr style=\"text-align: right;\">\n",
       "      <th></th>\n",
       "      <th>Name</th>\n",
       "      <th>Platform</th>\n",
       "      <th>Year_of_Release</th>\n",
       "      <th>Genre</th>\n",
       "      <th>NA_sales</th>\n",
       "      <th>EU_sales</th>\n",
       "      <th>JP_sales</th>\n",
       "      <th>Other_sales</th>\n",
       "      <th>Critic_Score</th>\n",
       "      <th>User_Score</th>\n",
       "      <th>Rating</th>\n",
       "    </tr>\n",
       "  </thead>\n",
       "  <tbody>\n",
       "    <tr>\n",
       "      <td>0</td>\n",
       "      <td>Wii Sports</td>\n",
       "      <td>Wii</td>\n",
       "      <td>2006.0</td>\n",
       "      <td>Sports</td>\n",
       "      <td>41.36</td>\n",
       "      <td>28.96</td>\n",
       "      <td>3.77</td>\n",
       "      <td>8.45</td>\n",
       "      <td>76.0</td>\n",
       "      <td>8</td>\n",
       "      <td>E</td>\n",
       "    </tr>\n",
       "    <tr>\n",
       "      <td>1</td>\n",
       "      <td>Super Mario Bros.</td>\n",
       "      <td>NES</td>\n",
       "      <td>1985.0</td>\n",
       "      <td>Platform</td>\n",
       "      <td>29.08</td>\n",
       "      <td>3.58</td>\n",
       "      <td>6.81</td>\n",
       "      <td>0.77</td>\n",
       "      <td>NaN</td>\n",
       "      <td>NaN</td>\n",
       "      <td>NaN</td>\n",
       "    </tr>\n",
       "    <tr>\n",
       "      <td>2</td>\n",
       "      <td>Mario Kart Wii</td>\n",
       "      <td>Wii</td>\n",
       "      <td>2008.0</td>\n",
       "      <td>Racing</td>\n",
       "      <td>15.68</td>\n",
       "      <td>12.76</td>\n",
       "      <td>3.79</td>\n",
       "      <td>3.29</td>\n",
       "      <td>82.0</td>\n",
       "      <td>8.3</td>\n",
       "      <td>E</td>\n",
       "    </tr>\n",
       "    <tr>\n",
       "      <td>3</td>\n",
       "      <td>Wii Sports Resort</td>\n",
       "      <td>Wii</td>\n",
       "      <td>2009.0</td>\n",
       "      <td>Sports</td>\n",
       "      <td>15.61</td>\n",
       "      <td>10.93</td>\n",
       "      <td>3.28</td>\n",
       "      <td>2.95</td>\n",
       "      <td>80.0</td>\n",
       "      <td>8</td>\n",
       "      <td>E</td>\n",
       "    </tr>\n",
       "    <tr>\n",
       "      <td>4</td>\n",
       "      <td>Pokemon Red/Pokemon Blue</td>\n",
       "      <td>GB</td>\n",
       "      <td>1996.0</td>\n",
       "      <td>Role-Playing</td>\n",
       "      <td>11.27</td>\n",
       "      <td>8.89</td>\n",
       "      <td>10.22</td>\n",
       "      <td>1.00</td>\n",
       "      <td>NaN</td>\n",
       "      <td>NaN</td>\n",
       "      <td>NaN</td>\n",
       "    </tr>\n",
       "  </tbody>\n",
       "</table>\n",
       "</div>"
      ],
      "text/plain": [
       "                       Name Platform  Year_of_Release         Genre  NA_sales  \\\n",
       "0                Wii Sports      Wii           2006.0        Sports     41.36   \n",
       "1         Super Mario Bros.      NES           1985.0      Platform     29.08   \n",
       "2            Mario Kart Wii      Wii           2008.0        Racing     15.68   \n",
       "3         Wii Sports Resort      Wii           2009.0        Sports     15.61   \n",
       "4  Pokemon Red/Pokemon Blue       GB           1996.0  Role-Playing     11.27   \n",
       "\n",
       "   EU_sales  JP_sales  Other_sales  Critic_Score User_Score Rating  \n",
       "0     28.96      3.77         8.45          76.0          8      E  \n",
       "1      3.58      6.81         0.77           NaN        NaN    NaN  \n",
       "2     12.76      3.79         3.29          82.0        8.3      E  \n",
       "3     10.93      3.28         2.95          80.0          8      E  \n",
       "4      8.89     10.22         1.00           NaN        NaN    NaN  "
      ]
     },
     "execution_count": 4,
     "metadata": {},
     "output_type": "execute_result"
    }
   ],
   "source": [
    "game_data.head()"
   ]
  },
  {
   "cell_type": "code",
   "execution_count": 5,
   "metadata": {},
   "outputs": [
    {
     "data": {
      "text/html": [
       "<div>\n",
       "<style scoped>\n",
       "    .dataframe tbody tr th:only-of-type {\n",
       "        vertical-align: middle;\n",
       "    }\n",
       "\n",
       "    .dataframe tbody tr th {\n",
       "        vertical-align: top;\n",
       "    }\n",
       "\n",
       "    .dataframe thead th {\n",
       "        text-align: right;\n",
       "    }\n",
       "</style>\n",
       "<table border=\"1\" class=\"dataframe\">\n",
       "  <thead>\n",
       "    <tr style=\"text-align: right;\">\n",
       "      <th></th>\n",
       "      <th>Year_of_Release</th>\n",
       "      <th>NA_sales</th>\n",
       "      <th>EU_sales</th>\n",
       "      <th>JP_sales</th>\n",
       "      <th>Other_sales</th>\n",
       "      <th>Critic_Score</th>\n",
       "    </tr>\n",
       "  </thead>\n",
       "  <tbody>\n",
       "    <tr>\n",
       "      <td>count</td>\n",
       "      <td>16446.000000</td>\n",
       "      <td>16715.000000</td>\n",
       "      <td>16715.000000</td>\n",
       "      <td>16715.000000</td>\n",
       "      <td>16715.000000</td>\n",
       "      <td>8137.000000</td>\n",
       "    </tr>\n",
       "    <tr>\n",
       "      <td>mean</td>\n",
       "      <td>2006.484616</td>\n",
       "      <td>0.263377</td>\n",
       "      <td>0.145060</td>\n",
       "      <td>0.077617</td>\n",
       "      <td>0.047342</td>\n",
       "      <td>68.967679</td>\n",
       "    </tr>\n",
       "    <tr>\n",
       "      <td>std</td>\n",
       "      <td>5.877050</td>\n",
       "      <td>0.813604</td>\n",
       "      <td>0.503339</td>\n",
       "      <td>0.308853</td>\n",
       "      <td>0.186731</td>\n",
       "      <td>13.938165</td>\n",
       "    </tr>\n",
       "    <tr>\n",
       "      <td>min</td>\n",
       "      <td>1980.000000</td>\n",
       "      <td>0.000000</td>\n",
       "      <td>0.000000</td>\n",
       "      <td>0.000000</td>\n",
       "      <td>0.000000</td>\n",
       "      <td>13.000000</td>\n",
       "    </tr>\n",
       "    <tr>\n",
       "      <td>25%</td>\n",
       "      <td>2003.000000</td>\n",
       "      <td>0.000000</td>\n",
       "      <td>0.000000</td>\n",
       "      <td>0.000000</td>\n",
       "      <td>0.000000</td>\n",
       "      <td>60.000000</td>\n",
       "    </tr>\n",
       "    <tr>\n",
       "      <td>50%</td>\n",
       "      <td>2007.000000</td>\n",
       "      <td>0.080000</td>\n",
       "      <td>0.020000</td>\n",
       "      <td>0.000000</td>\n",
       "      <td>0.010000</td>\n",
       "      <td>71.000000</td>\n",
       "    </tr>\n",
       "    <tr>\n",
       "      <td>75%</td>\n",
       "      <td>2010.000000</td>\n",
       "      <td>0.240000</td>\n",
       "      <td>0.110000</td>\n",
       "      <td>0.040000</td>\n",
       "      <td>0.030000</td>\n",
       "      <td>79.000000</td>\n",
       "    </tr>\n",
       "    <tr>\n",
       "      <td>max</td>\n",
       "      <td>2016.000000</td>\n",
       "      <td>41.360000</td>\n",
       "      <td>28.960000</td>\n",
       "      <td>10.220000</td>\n",
       "      <td>10.570000</td>\n",
       "      <td>98.000000</td>\n",
       "    </tr>\n",
       "  </tbody>\n",
       "</table>\n",
       "</div>"
      ],
      "text/plain": [
       "       Year_of_Release      NA_sales      EU_sales      JP_sales  \\\n",
       "count     16446.000000  16715.000000  16715.000000  16715.000000   \n",
       "mean       2006.484616      0.263377      0.145060      0.077617   \n",
       "std           5.877050      0.813604      0.503339      0.308853   \n",
       "min        1980.000000      0.000000      0.000000      0.000000   \n",
       "25%        2003.000000      0.000000      0.000000      0.000000   \n",
       "50%        2007.000000      0.080000      0.020000      0.000000   \n",
       "75%        2010.000000      0.240000      0.110000      0.040000   \n",
       "max        2016.000000     41.360000     28.960000     10.220000   \n",
       "\n",
       "        Other_sales  Critic_Score  \n",
       "count  16715.000000   8137.000000  \n",
       "mean       0.047342     68.967679  \n",
       "std        0.186731     13.938165  \n",
       "min        0.000000     13.000000  \n",
       "25%        0.000000     60.000000  \n",
       "50%        0.010000     71.000000  \n",
       "75%        0.030000     79.000000  \n",
       "max       10.570000     98.000000  "
      ]
     },
     "execution_count": 5,
     "metadata": {},
     "output_type": "execute_result"
    }
   ],
   "source": [
    "game_data.describe()"
   ]
  },
  {
   "cell_type": "markdown",
   "metadata": {},
   "source": [
    "Мы видим, что большинство данных не содержит информации по продажам игр. Также можем заметить, что оценка критиков является целым числом от 0 до 100, а оценка пользователя - с плавующей точкой от 0 до 10."
   ]
  },
  {
   "cell_type": "markdown",
   "metadata": {},
   "source": [
    "Рассмотрим уникальные значения столбца `User_Score`, возможно это поможет нам понять, почему pandas присвоил этому столбцу тип object."
   ]
  },
  {
   "cell_type": "code",
   "execution_count": 6,
   "metadata": {},
   "outputs": [
    {
     "data": {
      "text/plain": [
       "array(['8', nan, '8.3', '8.5', '6.6', '8.4', '8.6', '7.7', '6.3', '7.4',\n",
       "       '8.2', '9', '7.9', '8.1', '8.7', '7.1', '3.4', '5.3', '4.8', '3.2',\n",
       "       '8.9', '6.4', '7.8', '7.5', '2.6', '7.2', '9.2', '7', '7.3', '4.3',\n",
       "       '7.6', '5.7', '5', '9.1', '6.5', 'tbd', '8.8', '6.9', '9.4', '6.8',\n",
       "       '6.1', '6.7', '5.4', '4', '4.9', '4.5', '9.3', '6.2', '4.2', '6',\n",
       "       '3.7', '4.1', '5.8', '5.6', '5.5', '4.4', '4.6', '5.9', '3.9',\n",
       "       '3.1', '2.9', '5.2', '3.3', '4.7', '5.1', '3.5', '2.5', '1.9', '3',\n",
       "       '2.7', '2.2', '2', '9.5', '2.1', '3.6', '2.8', '1.8', '3.8', '0',\n",
       "       '1.6', '9.6', '2.4', '1.7', '1.1', '0.3', '1.5', '0.7', '1.2',\n",
       "       '2.3', '0.5', '1.3', '0.2', '0.6', '1.4', '0.9', '1', '9.7'],\n",
       "      dtype=object)"
      ]
     },
     "execution_count": 6,
     "metadata": {},
     "output_type": "execute_result"
    }
   ],
   "source": [
    "game_data['User_Score'].unique()"
   ]
  },
  {
   "cell_type": "markdown",
   "metadata": {},
   "source": [
    "В данных есть значение `tbd` - оно указывает на то, что рейтинг не рассчитан из-за недостатка количества оценок.\n",
    "\n",
    "Посмотрим на пропуски."
   ]
  },
  {
   "cell_type": "code",
   "execution_count": 7,
   "metadata": {},
   "outputs": [
    {
     "data": {
      "text/plain": [
       "Critic_Score       51.319174\n",
       "Rating             40.478612\n",
       "User_Score         40.089740\n",
       "Year_of_Release     1.609333\n",
       "Genre               0.011965\n",
       "Name                0.011965\n",
       "Other_sales         0.000000\n",
       "JP_sales            0.000000\n",
       "EU_sales            0.000000\n",
       "NA_sales            0.000000\n",
       "Platform            0.000000\n",
       "dtype: float64"
      ]
     },
     "execution_count": 7,
     "metadata": {},
     "output_type": "execute_result"
    }
   ],
   "source": [
    "(game_data.isnull().sum()/game_data.shape[0]*100).sort_values(ascending = False)"
   ]
  },
  {
   "cell_type": "code",
   "execution_count": 8,
   "metadata": {},
   "outputs": [
    {
     "data": {
      "text/html": [
       "<div>\n",
       "<style scoped>\n",
       "    .dataframe tbody tr th:only-of-type {\n",
       "        vertical-align: middle;\n",
       "    }\n",
       "\n",
       "    .dataframe tbody tr th {\n",
       "        vertical-align: top;\n",
       "    }\n",
       "\n",
       "    .dataframe thead th {\n",
       "        text-align: right;\n",
       "    }\n",
       "</style>\n",
       "<table border=\"1\" class=\"dataframe\">\n",
       "  <thead>\n",
       "    <tr style=\"text-align: right;\">\n",
       "      <th></th>\n",
       "      <th>Name</th>\n",
       "      <th>Platform</th>\n",
       "      <th>Year_of_Release</th>\n",
       "      <th>Genre</th>\n",
       "      <th>NA_sales</th>\n",
       "      <th>EU_sales</th>\n",
       "      <th>JP_sales</th>\n",
       "      <th>Other_sales</th>\n",
       "      <th>Critic_Score</th>\n",
       "      <th>User_Score</th>\n",
       "      <th>Rating</th>\n",
       "    </tr>\n",
       "  </thead>\n",
       "  <tbody>\n",
       "    <tr>\n",
       "      <td>15623</td>\n",
       "      <td>Winter Blast: 9 Snow &amp; Ice Games</td>\n",
       "      <td>Wii</td>\n",
       "      <td>2010.0</td>\n",
       "      <td>Sports</td>\n",
       "      <td>0.02</td>\n",
       "      <td>0.00</td>\n",
       "      <td>0.00</td>\n",
       "      <td>0.00</td>\n",
       "      <td>NaN</td>\n",
       "      <td>NaN</td>\n",
       "      <td>NaN</td>\n",
       "    </tr>\n",
       "    <tr>\n",
       "      <td>16360</td>\n",
       "      <td>Makai Senki Disgaea 3 Append Disc: Raspberyl-h...</td>\n",
       "      <td>PS3</td>\n",
       "      <td>2009.0</td>\n",
       "      <td>Role-Playing</td>\n",
       "      <td>0.00</td>\n",
       "      <td>0.00</td>\n",
       "      <td>0.01</td>\n",
       "      <td>0.00</td>\n",
       "      <td>NaN</td>\n",
       "      <td>NaN</td>\n",
       "      <td>NaN</td>\n",
       "    </tr>\n",
       "    <tr>\n",
       "      <td>11278</td>\n",
       "      <td>Great Party Games</td>\n",
       "      <td>Wii</td>\n",
       "      <td>2010.0</td>\n",
       "      <td>Misc</td>\n",
       "      <td>0.00</td>\n",
       "      <td>0.07</td>\n",
       "      <td>0.00</td>\n",
       "      <td>0.01</td>\n",
       "      <td>NaN</td>\n",
       "      <td>NaN</td>\n",
       "      <td>NaN</td>\n",
       "    </tr>\n",
       "    <tr>\n",
       "      <td>15943</td>\n",
       "      <td>Professional Farmer 2016</td>\n",
       "      <td>PS4</td>\n",
       "      <td>2015.0</td>\n",
       "      <td>Action</td>\n",
       "      <td>0.00</td>\n",
       "      <td>0.01</td>\n",
       "      <td>0.00</td>\n",
       "      <td>0.00</td>\n",
       "      <td>NaN</td>\n",
       "      <td>NaN</td>\n",
       "      <td>NaN</td>\n",
       "    </tr>\n",
       "    <tr>\n",
       "      <td>287</td>\n",
       "      <td>Street Fighter II Turbo</td>\n",
       "      <td>SNES</td>\n",
       "      <td>1992.0</td>\n",
       "      <td>Fighting</td>\n",
       "      <td>1.42</td>\n",
       "      <td>0.51</td>\n",
       "      <td>2.10</td>\n",
       "      <td>0.07</td>\n",
       "      <td>NaN</td>\n",
       "      <td>NaN</td>\n",
       "      <td>NaN</td>\n",
       "    </tr>\n",
       "  </tbody>\n",
       "</table>\n",
       "</div>"
      ],
      "text/plain": [
       "                                                    Name Platform  \\\n",
       "15623                   Winter Blast: 9 Snow & Ice Games      Wii   \n",
       "16360  Makai Senki Disgaea 3 Append Disc: Raspberyl-h...      PS3   \n",
       "11278                                  Great Party Games      Wii   \n",
       "15943                           Professional Farmer 2016      PS4   \n",
       "287                              Street Fighter II Turbo     SNES   \n",
       "\n",
       "       Year_of_Release         Genre  NA_sales  EU_sales  JP_sales  \\\n",
       "15623           2010.0        Sports      0.02      0.00      0.00   \n",
       "16360           2009.0  Role-Playing      0.00      0.00      0.01   \n",
       "11278           2010.0          Misc      0.00      0.07      0.00   \n",
       "15943           2015.0        Action      0.00      0.01      0.00   \n",
       "287             1992.0      Fighting      1.42      0.51      2.10   \n",
       "\n",
       "       Other_sales  Critic_Score User_Score Rating  \n",
       "15623         0.00           NaN        NaN    NaN  \n",
       "16360         0.00           NaN        NaN    NaN  \n",
       "11278         0.01           NaN        NaN    NaN  \n",
       "15943         0.00           NaN        NaN    NaN  \n",
       "287           0.07           NaN        NaN    NaN  "
      ]
     },
     "execution_count": 8,
     "metadata": {},
     "output_type": "execute_result"
    }
   ],
   "source": [
    "game_data[(game_data['User_Score'].isna())].sample(5)"
   ]
  },
  {
   "cell_type": "markdown",
   "metadata": {},
   "source": [
    "Мы видим, что в данных с пропусками, сразу отсутствует все 3 столбца, это может быть связанно с попульрностью игр. Большинство объектов, которые мы видим, обладают либо маленьким количеством продаж, либо вышли очень давно.\n",
    "Очевидно, что пропуски появились из-за маленькой популярности игры и не зависят от других причин."
   ]
  },
  {
   "cell_type": "markdown",
   "metadata": {},
   "source": [
    "### Выводы.\n",
    "Необходимо поменять название столбцов, привести столбец `Year_of_Release`,`Critic_Score` и `User_Score` к типу int, перед  этим обработав значение tbd.\n",
    "Мы получили набор данных содержащий около половины пропусков в столбцах с интересующей нас информацией. \n",
    "Так как мы пришли к выводу, что пропуски не зависят от других данных, то мы можем только удалить их."
   ]
  },
  {
   "cell_type": "markdown",
   "metadata": {},
   "source": [
    "### 1.2 Предобработка данных.\n",
    "Приведем название столбцов к общепринятому виду."
   ]
  },
  {
   "cell_type": "code",
   "execution_count": 9,
   "metadata": {},
   "outputs": [],
   "source": [
    "game_data.columns = [x.lower() for x in list(game_data.columns)]"
   ]
  },
  {
   "cell_type": "markdown",
   "metadata": {},
   "source": [
    "Так как значение `tbd` в столбце `user_score` фактически означает отсутствие рейтинга, то корректно будет заменить его на nan."
   ]
  },
  {
   "cell_type": "code",
   "execution_count": 10,
   "metadata": {},
   "outputs": [],
   "source": [
    "tbd_filter = game_data['user_score'] == \"tbd\"\n",
    "game_data.loc[tbd_filter, 'user_score'] = np.NaN"
   ]
  },
  {
   "cell_type": "markdown",
   "metadata": {},
   "source": [
    "Посмотрим на данные, где пропущен год выхода игр."
   ]
  },
  {
   "cell_type": "code",
   "execution_count": 11,
   "metadata": {},
   "outputs": [
    {
     "data": {
      "text/html": [
       "<div>\n",
       "<style scoped>\n",
       "    .dataframe tbody tr th:only-of-type {\n",
       "        vertical-align: middle;\n",
       "    }\n",
       "\n",
       "    .dataframe tbody tr th {\n",
       "        vertical-align: top;\n",
       "    }\n",
       "\n",
       "    .dataframe thead th {\n",
       "        text-align: right;\n",
       "    }\n",
       "</style>\n",
       "<table border=\"1\" class=\"dataframe\">\n",
       "  <thead>\n",
       "    <tr style=\"text-align: right;\">\n",
       "      <th></th>\n",
       "      <th>name</th>\n",
       "      <th>platform</th>\n",
       "      <th>year_of_release</th>\n",
       "      <th>genre</th>\n",
       "      <th>na_sales</th>\n",
       "      <th>eu_sales</th>\n",
       "      <th>jp_sales</th>\n",
       "      <th>other_sales</th>\n",
       "      <th>critic_score</th>\n",
       "      <th>user_score</th>\n",
       "      <th>rating</th>\n",
       "    </tr>\n",
       "  </thead>\n",
       "  <tbody>\n",
       "    <tr>\n",
       "      <td>183</td>\n",
       "      <td>Madden NFL 2004</td>\n",
       "      <td>PS2</td>\n",
       "      <td>NaN</td>\n",
       "      <td>Sports</td>\n",
       "      <td>4.26</td>\n",
       "      <td>0.26</td>\n",
       "      <td>0.01</td>\n",
       "      <td>0.71</td>\n",
       "      <td>94.0</td>\n",
       "      <td>8.5</td>\n",
       "      <td>E</td>\n",
       "    </tr>\n",
       "    <tr>\n",
       "      <td>377</td>\n",
       "      <td>FIFA Soccer 2004</td>\n",
       "      <td>PS2</td>\n",
       "      <td>NaN</td>\n",
       "      <td>Sports</td>\n",
       "      <td>0.59</td>\n",
       "      <td>2.36</td>\n",
       "      <td>0.04</td>\n",
       "      <td>0.51</td>\n",
       "      <td>84.0</td>\n",
       "      <td>6.4</td>\n",
       "      <td>E</td>\n",
       "    </tr>\n",
       "    <tr>\n",
       "      <td>456</td>\n",
       "      <td>LEGO Batman: The Videogame</td>\n",
       "      <td>Wii</td>\n",
       "      <td>NaN</td>\n",
       "      <td>Action</td>\n",
       "      <td>1.80</td>\n",
       "      <td>0.97</td>\n",
       "      <td>0.00</td>\n",
       "      <td>0.29</td>\n",
       "      <td>74.0</td>\n",
       "      <td>7.9</td>\n",
       "      <td>E10+</td>\n",
       "    </tr>\n",
       "    <tr>\n",
       "      <td>475</td>\n",
       "      <td>wwe Smackdown vs. Raw 2006</td>\n",
       "      <td>PS2</td>\n",
       "      <td>NaN</td>\n",
       "      <td>Fighting</td>\n",
       "      <td>1.57</td>\n",
       "      <td>1.02</td>\n",
       "      <td>0.00</td>\n",
       "      <td>0.41</td>\n",
       "      <td>NaN</td>\n",
       "      <td>NaN</td>\n",
       "      <td>NaN</td>\n",
       "    </tr>\n",
       "    <tr>\n",
       "      <td>609</td>\n",
       "      <td>Space Invaders</td>\n",
       "      <td>2600</td>\n",
       "      <td>NaN</td>\n",
       "      <td>Shooter</td>\n",
       "      <td>2.36</td>\n",
       "      <td>0.14</td>\n",
       "      <td>0.00</td>\n",
       "      <td>0.03</td>\n",
       "      <td>NaN</td>\n",
       "      <td>NaN</td>\n",
       "      <td>NaN</td>\n",
       "    </tr>\n",
       "  </tbody>\n",
       "</table>\n",
       "</div>"
      ],
      "text/plain": [
       "                           name platform  year_of_release     genre  na_sales  \\\n",
       "183             Madden NFL 2004      PS2              NaN    Sports      4.26   \n",
       "377            FIFA Soccer 2004      PS2              NaN    Sports      0.59   \n",
       "456  LEGO Batman: The Videogame      Wii              NaN    Action      1.80   \n",
       "475  wwe Smackdown vs. Raw 2006      PS2              NaN  Fighting      1.57   \n",
       "609              Space Invaders     2600              NaN   Shooter      2.36   \n",
       "\n",
       "     eu_sales  jp_sales  other_sales  critic_score user_score rating  \n",
       "183      0.26      0.01         0.71          94.0        8.5      E  \n",
       "377      2.36      0.04         0.51          84.0        6.4      E  \n",
       "456      0.97      0.00         0.29          74.0        7.9   E10+  \n",
       "475      1.02      0.00         0.41           NaN        NaN    NaN  \n",
       "609      0.14      0.00         0.03           NaN        NaN    NaN  "
      ]
     },
     "execution_count": 11,
     "metadata": {},
     "output_type": "execute_result"
    }
   ],
   "source": [
    "game_data[game_data['year_of_release'].isna()].head()"
   ]
  },
  {
   "cell_type": "code",
   "execution_count": 12,
   "metadata": {},
   "outputs": [
    {
     "data": {
      "text/html": [
       "<div>\n",
       "<style scoped>\n",
       "    .dataframe tbody tr th:only-of-type {\n",
       "        vertical-align: middle;\n",
       "    }\n",
       "\n",
       "    .dataframe tbody tr th {\n",
       "        vertical-align: top;\n",
       "    }\n",
       "\n",
       "    .dataframe thead th {\n",
       "        text-align: right;\n",
       "    }\n",
       "</style>\n",
       "<table border=\"1\" class=\"dataframe\">\n",
       "  <thead>\n",
       "    <tr style=\"text-align: right;\">\n",
       "      <th></th>\n",
       "      <th>name</th>\n",
       "      <th>platform</th>\n",
       "      <th>year_of_release</th>\n",
       "      <th>genre</th>\n",
       "      <th>na_sales</th>\n",
       "      <th>eu_sales</th>\n",
       "      <th>jp_sales</th>\n",
       "      <th>other_sales</th>\n",
       "      <th>critic_score</th>\n",
       "      <th>user_score</th>\n",
       "      <th>rating</th>\n",
       "    </tr>\n",
       "  </thead>\n",
       "  <tbody>\n",
       "    <tr>\n",
       "      <td>659</td>\n",
       "      <td>NaN</td>\n",
       "      <td>GEN</td>\n",
       "      <td>1993.0</td>\n",
       "      <td>NaN</td>\n",
       "      <td>1.78</td>\n",
       "      <td>0.53</td>\n",
       "      <td>0.00</td>\n",
       "      <td>0.08</td>\n",
       "      <td>NaN</td>\n",
       "      <td>NaN</td>\n",
       "      <td>NaN</td>\n",
       "    </tr>\n",
       "    <tr>\n",
       "      <td>14244</td>\n",
       "      <td>NaN</td>\n",
       "      <td>GEN</td>\n",
       "      <td>1993.0</td>\n",
       "      <td>NaN</td>\n",
       "      <td>0.00</td>\n",
       "      <td>0.00</td>\n",
       "      <td>0.03</td>\n",
       "      <td>0.00</td>\n",
       "      <td>NaN</td>\n",
       "      <td>NaN</td>\n",
       "      <td>NaN</td>\n",
       "    </tr>\n",
       "  </tbody>\n",
       "</table>\n",
       "</div>"
      ],
      "text/plain": [
       "      name platform  year_of_release genre  na_sales  eu_sales  jp_sales  \\\n",
       "659    NaN      GEN           1993.0   NaN      1.78      0.53      0.00   \n",
       "14244  NaN      GEN           1993.0   NaN      0.00      0.00      0.03   \n",
       "\n",
       "       other_sales  critic_score user_score rating  \n",
       "659           0.08           NaN        NaN    NaN  \n",
       "14244         0.00           NaN        NaN    NaN  "
      ]
     },
     "execution_count": 12,
     "metadata": {},
     "output_type": "execute_result"
    }
   ],
   "source": [
    "game_data[game_data['name'].isna()]"
   ]
  },
  {
   "cell_type": "markdown",
   "metadata": {},
   "source": [
    "Есть 269 бъектов, у которых отсутствует дата выхода, это может быть связанно, с ошибкой выгрузки, мы могли бы найти информацию в интернет и заполить эти пропуски, но из-за недостатка времени просто удалим эти строки, также мы удалим данные в которых нет информации о названии и жанре. "
   ]
  },
  {
   "cell_type": "code",
   "execution_count": 13,
   "metadata": {},
   "outputs": [],
   "source": [
    "game_data.dropna(subset=['name', 'year_of_release'], inplace=True)"
   ]
  },
  {
   "cell_type": "code",
   "execution_count": 14,
   "metadata": {},
   "outputs": [
    {
     "data": {
      "text/html": [
       "<div>\n",
       "<style scoped>\n",
       "    .dataframe tbody tr th:only-of-type {\n",
       "        vertical-align: middle;\n",
       "    }\n",
       "\n",
       "    .dataframe tbody tr th {\n",
       "        vertical-align: top;\n",
       "    }\n",
       "\n",
       "    .dataframe thead th {\n",
       "        text-align: right;\n",
       "    }\n",
       "</style>\n",
       "<table border=\"1\" class=\"dataframe\">\n",
       "  <thead>\n",
       "    <tr style=\"text-align: right;\">\n",
       "      <th></th>\n",
       "      <th>name</th>\n",
       "      <th>platform</th>\n",
       "      <th>year_of_release</th>\n",
       "      <th>genre</th>\n",
       "      <th>na_sales</th>\n",
       "      <th>eu_sales</th>\n",
       "      <th>jp_sales</th>\n",
       "      <th>other_sales</th>\n",
       "      <th>critic_score</th>\n",
       "      <th>user_score</th>\n",
       "      <th>rating</th>\n",
       "    </tr>\n",
       "  </thead>\n",
       "  <tbody>\n",
       "    <tr>\n",
       "      <td>1</td>\n",
       "      <td>Super Mario Bros.</td>\n",
       "      <td>NES</td>\n",
       "      <td>1985.0</td>\n",
       "      <td>Platform</td>\n",
       "      <td>29.08</td>\n",
       "      <td>3.58</td>\n",
       "      <td>6.81</td>\n",
       "      <td>0.77</td>\n",
       "      <td>NaN</td>\n",
       "      <td>NaN</td>\n",
       "      <td>NaN</td>\n",
       "    </tr>\n",
       "    <tr>\n",
       "      <td>4</td>\n",
       "      <td>Pokemon Red/Pokemon Blue</td>\n",
       "      <td>GB</td>\n",
       "      <td>1996.0</td>\n",
       "      <td>Role-Playing</td>\n",
       "      <td>11.27</td>\n",
       "      <td>8.89</td>\n",
       "      <td>10.22</td>\n",
       "      <td>1.00</td>\n",
       "      <td>NaN</td>\n",
       "      <td>NaN</td>\n",
       "      <td>NaN</td>\n",
       "    </tr>\n",
       "    <tr>\n",
       "      <td>5</td>\n",
       "      <td>Tetris</td>\n",
       "      <td>GB</td>\n",
       "      <td>1989.0</td>\n",
       "      <td>Puzzle</td>\n",
       "      <td>23.20</td>\n",
       "      <td>2.26</td>\n",
       "      <td>4.22</td>\n",
       "      <td>0.58</td>\n",
       "      <td>NaN</td>\n",
       "      <td>NaN</td>\n",
       "      <td>NaN</td>\n",
       "    </tr>\n",
       "    <tr>\n",
       "      <td>9</td>\n",
       "      <td>Duck Hunt</td>\n",
       "      <td>NES</td>\n",
       "      <td>1984.0</td>\n",
       "      <td>Shooter</td>\n",
       "      <td>26.93</td>\n",
       "      <td>0.63</td>\n",
       "      <td>0.28</td>\n",
       "      <td>0.47</td>\n",
       "      <td>NaN</td>\n",
       "      <td>NaN</td>\n",
       "      <td>NaN</td>\n",
       "    </tr>\n",
       "    <tr>\n",
       "      <td>10</td>\n",
       "      <td>Nintendogs</td>\n",
       "      <td>DS</td>\n",
       "      <td>2005.0</td>\n",
       "      <td>Simulation</td>\n",
       "      <td>9.05</td>\n",
       "      <td>10.95</td>\n",
       "      <td>1.93</td>\n",
       "      <td>2.74</td>\n",
       "      <td>NaN</td>\n",
       "      <td>NaN</td>\n",
       "      <td>NaN</td>\n",
       "    </tr>\n",
       "  </tbody>\n",
       "</table>\n",
       "</div>"
      ],
      "text/plain": [
       "                        name platform  year_of_release         genre  \\\n",
       "1          Super Mario Bros.      NES           1985.0      Platform   \n",
       "4   Pokemon Red/Pokemon Blue       GB           1996.0  Role-Playing   \n",
       "5                     Tetris       GB           1989.0        Puzzle   \n",
       "9                  Duck Hunt      NES           1984.0       Shooter   \n",
       "10                Nintendogs       DS           2005.0    Simulation   \n",
       "\n",
       "    na_sales  eu_sales  jp_sales  other_sales  critic_score user_score rating  \n",
       "1      29.08      3.58      6.81         0.77           NaN        NaN    NaN  \n",
       "4      11.27      8.89     10.22         1.00           NaN        NaN    NaN  \n",
       "5      23.20      2.26      4.22         0.58           NaN        NaN    NaN  \n",
       "9      26.93      0.63      0.28         0.47           NaN        NaN    NaN  \n",
       "10      9.05     10.95      1.93         2.74           NaN        NaN    NaN  "
      ]
     },
     "execution_count": 14,
     "metadata": {},
     "output_type": "execute_result"
    }
   ],
   "source": [
    "game_data[game_data['critic_score'].isna()].head()"
   ]
  },
  {
   "cell_type": "markdown",
   "metadata": {},
   "source": [
    "Мы решили оставить пропуски в данных, так как это поможет увеличить количество информации для анализа вопросов не связанных с оценками.\n",
    "\n",
    "Приведем столбцы к удобным для нас типам данных. Столбец `year_of_release` приведем к целочисленному типу, так как год выхода не может быть дробным."
   ]
  },
  {
   "cell_type": "code",
   "execution_count": 15,
   "metadata": {},
   "outputs": [],
   "source": [
    "game_data['user_score'] = game_data['user_score'].astype('float64', errors='ignore')\n",
    "game_data['critic_score'] = game_data['critic_score'].astype('int64', errors='ignore')\n",
    "game_data['year_of_release'] = game_data['year_of_release'].astype('int64', errors='ignore')"
   ]
  },
  {
   "cell_type": "markdown",
   "metadata": {},
   "source": [
    "Переведем оценки пользователей к 100 бальной шкале и преобразуем тип данных в `int`."
   ]
  },
  {
   "cell_type": "code",
   "execution_count": 16,
   "metadata": {},
   "outputs": [],
   "source": [
    "game_data.loc[:,'user_score'] *= 10"
   ]
  },
  {
   "cell_type": "code",
   "execution_count": 17,
   "metadata": {},
   "outputs": [
    {
     "name": "stdout",
     "output_type": "stream",
     "text": [
      "<class 'pandas.core.frame.DataFrame'>\n",
      "Int64Index: 16444 entries, 0 to 16714\n",
      "Data columns (total 11 columns):\n",
      "name               16444 non-null object\n",
      "platform           16444 non-null object\n",
      "year_of_release    16444 non-null int64\n",
      "genre              16444 non-null object\n",
      "na_sales           16444 non-null float64\n",
      "eu_sales           16444 non-null float64\n",
      "jp_sales           16444 non-null float64\n",
      "other_sales        16444 non-null float64\n",
      "critic_score       7983 non-null float64\n",
      "user_score         7463 non-null float64\n",
      "rating             9768 non-null object\n",
      "dtypes: float64(6), int64(1), object(4)\n",
      "memory usage: 1.5+ MB\n"
     ]
    }
   ],
   "source": [
    "game_data['user_score'] = game_data['user_score'].astype('int64', errors='ignore')\n",
    "game_data.info()"
   ]
  },
  {
   "cell_type": "markdown",
   "metadata": {},
   "source": [
    "Добавим в таблицу информацию об общих продажах."
   ]
  },
  {
   "cell_type": "code",
   "execution_count": 18,
   "metadata": {},
   "outputs": [],
   "source": [
    "game_data['all_sales'] = (game_data['na_sales'] + game_data['eu_sales'] + \n",
    "                          game_data['jp_sales'] + game_data['other_sales'])"
   ]
  },
  {
   "cell_type": "markdown",
   "metadata": {},
   "source": [
    "Рассчитаем количество данных, по которым мы сможем проводить анализ"
   ]
  },
  {
   "cell_type": "code",
   "execution_count": 19,
   "metadata": {},
   "outputs": [
    {
     "name": "stdout",
     "output_type": "stream",
     "text": [
      "Процент оставшихся данных 0.9837870176488184\n"
     ]
    }
   ],
   "source": [
    "print('Процент оставшихся данных', game_data.shape[0] / data_shape)"
   ]
  },
  {
   "cell_type": "markdown",
   "metadata": {},
   "source": [
    "### Выводы.\n",
    "Мы привели столбцы к нужным нам типам  и избавились от пропусков в тех объектах, в которых мы не можем восстановить значения."
   ]
  },
  {
   "cell_type": "markdown",
   "metadata": {},
   "source": [
    "## Выводы по разделу 1\n",
    "Мы изучили полученные данные, преобразовали значения tbd в nan, так как фактически мы не имеем информации о этих значениях и удалили строки, которые не содержат год выпуска и название игр.\n",
    "\n",
    "Столбец year_of_release был приведен к целочисленному типу, так как это интервальные данные, как и столбец user_score, ведь изначально pandas неправильно определил этот тип данных из-за наличие переменной tbd, которая оказалась равнозначна пропуску в данных.\n",
    "\n",
    "По результатам предобработки данных мы потеряли 2% нашего датасета.\n"
   ]
  },
  {
   "cell_type": "markdown",
   "metadata": {},
   "source": [
    "## 2. Исследовательский анализ\n",
    "\n",
    "### 2.1 Определим интересный для анализа период времени\n",
    "Для начала посмотрим на количество продаж игр по годам и определим важный для анализа период времени."
   ]
  },
  {
   "cell_type": "code",
   "execution_count": 20,
   "metadata": {},
   "outputs": [],
   "source": [
    "year_bins = len(game_data['year_of_release'].unique())"
   ]
  },
  {
   "cell_type": "code",
   "execution_count": 21,
   "metadata": {
    "scrolled": true
   },
   "outputs": [
    {
     "data": {
      "image/png": "[encoded data removed]",
      "text/plain": [
       "<Figure size 720x360 with 1 Axes>"
      ]
     },
     "metadata": {
      "needs_background": "light"
     },
     "output_type": "display_data"
    }
   ],
   "source": [
    "plt.figure(figsize=(10,5))\n",
    "plt.grid(True)\n",
    "ax = sns.distplot(game_data['year_of_release'], kde=False, bins=year_bins);\n",
    "ax.set(xlabel='year of release', ylabel='count', title='Game in year');"
   ]
  },
  {
   "cell_type": "markdown",
   "metadata": {},
   "source": [
    "На графике мы видим, что временной интервал можно разбить на 4 отрезка, до 1995 года, когда выходило очень мало игр, с 1995 по 2000, количество игр не превышало  300 в год и с 2000 года, когда ежегодно выходило больше 500 игр и с 2011, когда выход игр перестал быть столь мыссовым.\n",
    "\n",
    "Мы можем сделать вывод, что наиболее интересный интервал времени с 2011 года.\n",
    "\n",
    "###  Исследуем популярность разных платформ по времени, определим средний срок жизни популярных платформ.\n",
    "Для оценки популярности платформы посмотрим на суммарные продажи игр по времени. Для того, чтобы наш график не засорялся большим количеством платформ, оставим платформы с наибольшим количеством продаж."
   ]
  },
  {
   "cell_type": "code",
   "execution_count": 22,
   "metadata": {},
   "outputs": [],
   "source": [
    "platform_sales = game_data.groupby('platform')['all_sales'].sum()\n",
    "\n",
    "most_sales = platform_sales.quantile(0.85)"
   ]
  },
  {
   "cell_type": "code",
   "execution_count": 23,
   "metadata": {},
   "outputs": [],
   "source": [
    "interest_platform = platform_sales[platform_sales > most_sales].index"
   ]
  },
  {
   "cell_type": "code",
   "execution_count": 24,
   "metadata": {},
   "outputs": [
    {
     "data": {
      "image/png": "[encoded data removed]",
      "text/plain": [
       "<Figure size 720x360 with 1 Axes>"
      ]
     },
     "metadata": {
      "needs_background": "light"
     },
     "output_type": "display_data"
    }
   ],
   "source": [
    "platform_info = game_data[game_data['platform'].isin(interest_platform)];\n",
    "\n",
    "plt.figure(figsize=(10,5))\n",
    "plt.grid(True)\n",
    "ax = sns.boxplot(y='year_of_release' , x='platform', data=platform_info);\n",
    "ax.set_title('boxplot platform life');"
   ]
  },
  {
   "cell_type": "code",
   "execution_count": 25,
   "metadata": {},
   "outputs": [
    {
     "name": "stdout",
     "output_type": "stream",
     "text": [
      "                     min             max peiod\n",
      "         year_of_release year_of_release      \n",
      "platform                                      \n",
      "PS2                 2000            2011    11\n",
      "PS3                 2006            2016    10\n",
      "Wii                 2006            2016    10\n",
      "X360                2005            2016    11\n",
      "среднее время жизни игровой платформы: 10.5\n"
     ]
    }
   ],
   "source": [
    "release_years = platform_info.pivot_table(index='platform', values='year_of_release', aggfunc=['min', 'max'])\n",
    "release_years['peiod'] = release_years.iloc[:,1] - release_years.iloc[:,0]\n",
    "release_years = release_years.drop(['DS'], axis=0)\n",
    "\n",
    "print(release_years)\n",
    "print('среднее время жизни игровой платформы:', release_years['peiod'].mean())"
   ]
  },
  {
   "cell_type": "code",
   "execution_count": 26,
   "metadata": {},
   "outputs": [
    {
     "data": {
      "text/html": [
       "<div>\n",
       "<style scoped>\n",
       "    .dataframe tbody tr th:only-of-type {\n",
       "        vertical-align: middle;\n",
       "    }\n",
       "\n",
       "    .dataframe tbody tr th {\n",
       "        vertical-align: top;\n",
       "    }\n",
       "\n",
       "    .dataframe thead tr th {\n",
       "        text-align: left;\n",
       "    }\n",
       "\n",
       "    .dataframe thead tr:last-of-type th {\n",
       "        text-align: right;\n",
       "    }\n",
       "</style>\n",
       "<table border=\"1\" class=\"dataframe\">\n",
       "  <thead>\n",
       "    <tr>\n",
       "      <th></th>\n",
       "      <th>min</th>\n",
       "      <th>max</th>\n",
       "    </tr>\n",
       "    <tr>\n",
       "      <th></th>\n",
       "      <th>year_of_release</th>\n",
       "      <th>year_of_release</th>\n",
       "    </tr>\n",
       "    <tr>\n",
       "      <th>platform</th>\n",
       "      <th></th>\n",
       "      <th></th>\n",
       "    </tr>\n",
       "  </thead>\n",
       "  <tbody>\n",
       "    <tr>\n",
       "      <td>XOne</td>\n",
       "      <td>2013</td>\n",
       "      <td>2016</td>\n",
       "    </tr>\n",
       "    <tr>\n",
       "      <td>PS4</td>\n",
       "      <td>2013</td>\n",
       "      <td>2016</td>\n",
       "    </tr>\n",
       "    <tr>\n",
       "      <td>WiiU</td>\n",
       "      <td>2012</td>\n",
       "      <td>2016</td>\n",
       "    </tr>\n",
       "    <tr>\n",
       "      <td>3DS</td>\n",
       "      <td>2011</td>\n",
       "      <td>2016</td>\n",
       "    </tr>\n",
       "    <tr>\n",
       "      <td>PSV</td>\n",
       "      <td>2011</td>\n",
       "      <td>2016</td>\n",
       "    </tr>\n",
       "    <tr>\n",
       "      <td>PS3</td>\n",
       "      <td>2006</td>\n",
       "      <td>2016</td>\n",
       "    </tr>\n",
       "    <tr>\n",
       "      <td>Wii</td>\n",
       "      <td>2006</td>\n",
       "      <td>2016</td>\n",
       "    </tr>\n",
       "    <tr>\n",
       "      <td>X360</td>\n",
       "      <td>2005</td>\n",
       "      <td>2016</td>\n",
       "    </tr>\n",
       "    <tr>\n",
       "      <td>PSP</td>\n",
       "      <td>2004</td>\n",
       "      <td>2015</td>\n",
       "    </tr>\n",
       "    <tr>\n",
       "      <td>GC</td>\n",
       "      <td>2001</td>\n",
       "      <td>2007</td>\n",
       "    </tr>\n",
       "  </tbody>\n",
       "</table>\n",
       "</div>"
      ],
      "text/plain": [
       "                     min             max\n",
       "         year_of_release year_of_release\n",
       "platform                                \n",
       "XOne                2013            2016\n",
       "PS4                 2013            2016\n",
       "WiiU                2012            2016\n",
       "3DS                 2011            2016\n",
       "PSV                 2011            2016\n",
       "PS3                 2006            2016\n",
       "Wii                 2006            2016\n",
       "X360                2005            2016\n",
       "PSP                 2004            2015\n",
       "GC                  2001            2007"
      ]
     },
     "execution_count": 26,
     "metadata": {},
     "output_type": "execute_result"
    }
   ],
   "source": [
    "game_data.pivot_table(index='platform', \n",
    "                      values='year_of_release', \n",
    "                      aggfunc=['min', 'max']).sort_values(by=('min', 'year_of_release'),\n",
    "                                                          ascending=False).head(10)"
   ]
  },
  {
   "cell_type": "markdown",
   "metadata": {},
   "source": [
    "Мы видим, что в среднем современная платформа \"живет\" 10.5 лет. При этом каждые 6 лет выходят новые игровые консоли.\n",
    "\n",
    "### Выводы.\n",
    "Исследовав количество вышедших игр и средний срок жизни платформы, мы можем определить актуальный для исследования период. Мы прогнозируем на 2017 год, следовательно мы можем взять за точку отсчета - 2011 год, это наименьшйи год выхода для всех актуальных на момент составления датасета игровых платформ.\n",
    "\n",
    "Уберем из данных все строки с годом выхода меньше 2011."
   ]
  },
  {
   "cell_type": "code",
   "execution_count": 27,
   "metadata": {},
   "outputs": [
    {
     "data": {
      "text/plain": [
       "PS3     708\n",
       "3DS     512\n",
       "X360    498\n",
       "PSV     429\n",
       "PS4     392\n",
       "PC      389\n",
       "PSP     312\n",
       "XOne    247\n",
       "Wii     197\n",
       "DS      184\n",
       "WiiU    147\n",
       "PS2       7\n",
       "Name: platform, dtype: int64"
      ]
     },
     "execution_count": 27,
     "metadata": {},
     "output_type": "execute_result"
    }
   ],
   "source": [
    "actual_game_data = game_data.query('year_of_release >= 2011')\n",
    "actual_game_data['platform'].value_counts()"
   ]
  },
  {
   "cell_type": "markdown",
   "metadata": {},
   "source": [
    "В нашем наборе данных остались платформы с маленьким количеством игр, удалим их."
   ]
  },
  {
   "cell_type": "code",
   "execution_count": 28,
   "metadata": {},
   "outputs": [],
   "source": [
    "actual_game_data = actual_game_data[~actual_game_data['platform'].isin(['PS2'])]"
   ]
  },
  {
   "cell_type": "markdown",
   "metadata": {},
   "source": [
    "### 2.2 Определим потенциально прибыльные платформы.\n",
    "Потенциально прибыльной можно считать ту платформу, у которой на момент 2015 года росли продажи, также можно не рассматривать консоли, у которых за последний год не было продаж."
   ]
  },
  {
   "cell_type": "code",
   "execution_count": 29,
   "metadata": {
    "scrolled": true
   },
   "outputs": [
    {
     "data": {
      "text/html": [
       "<div>\n",
       "<style scoped>\n",
       "    .dataframe tbody tr th:only-of-type {\n",
       "        vertical-align: middle;\n",
       "    }\n",
       "\n",
       "    .dataframe tbody tr th {\n",
       "        vertical-align: top;\n",
       "    }\n",
       "\n",
       "    .dataframe thead th {\n",
       "        text-align: right;\n",
       "    }\n",
       "</style>\n",
       "<table border=\"1\" class=\"dataframe\">\n",
       "  <thead>\n",
       "    <tr style=\"text-align: right;\">\n",
       "      <th>platform</th>\n",
       "      <th>3DS</th>\n",
       "      <th>PC</th>\n",
       "      <th>PS3</th>\n",
       "      <th>PS4</th>\n",
       "      <th>PSV</th>\n",
       "      <th>Wii</th>\n",
       "      <th>WiiU</th>\n",
       "      <th>X360</th>\n",
       "      <th>XOne</th>\n",
       "    </tr>\n",
       "    <tr>\n",
       "      <th>year_of_release</th>\n",
       "      <th></th>\n",
       "      <th></th>\n",
       "      <th></th>\n",
       "      <th></th>\n",
       "      <th></th>\n",
       "      <th></th>\n",
       "      <th></th>\n",
       "      <th></th>\n",
       "      <th></th>\n",
       "    </tr>\n",
       "  </thead>\n",
       "  <tbody>\n",
       "    <tr>\n",
       "      <td>2011</td>\n",
       "      <td>63.20</td>\n",
       "      <td>35.03</td>\n",
       "      <td>156.78</td>\n",
       "      <td>NaN</td>\n",
       "      <td>4.63</td>\n",
       "      <td>59.65</td>\n",
       "      <td>NaN</td>\n",
       "      <td>143.84</td>\n",
       "      <td>NaN</td>\n",
       "    </tr>\n",
       "    <tr>\n",
       "      <td>2012</td>\n",
       "      <td>51.36</td>\n",
       "      <td>23.22</td>\n",
       "      <td>107.36</td>\n",
       "      <td>NaN</td>\n",
       "      <td>16.19</td>\n",
       "      <td>21.71</td>\n",
       "      <td>17.56</td>\n",
       "      <td>99.74</td>\n",
       "      <td>NaN</td>\n",
       "    </tr>\n",
       "    <tr>\n",
       "      <td>2013</td>\n",
       "      <td>56.57</td>\n",
       "      <td>12.38</td>\n",
       "      <td>113.25</td>\n",
       "      <td>25.99</td>\n",
       "      <td>10.59</td>\n",
       "      <td>8.59</td>\n",
       "      <td>21.65</td>\n",
       "      <td>88.58</td>\n",
       "      <td>18.96</td>\n",
       "    </tr>\n",
       "    <tr>\n",
       "      <td>2014</td>\n",
       "      <td>43.76</td>\n",
       "      <td>13.28</td>\n",
       "      <td>47.76</td>\n",
       "      <td>100.00</td>\n",
       "      <td>11.90</td>\n",
       "      <td>3.75</td>\n",
       "      <td>22.03</td>\n",
       "      <td>34.74</td>\n",
       "      <td>54.07</td>\n",
       "    </tr>\n",
       "    <tr>\n",
       "      <td>2015</td>\n",
       "      <td>27.78</td>\n",
       "      <td>8.52</td>\n",
       "      <td>16.82</td>\n",
       "      <td>118.90</td>\n",
       "      <td>6.25</td>\n",
       "      <td>1.14</td>\n",
       "      <td>16.35</td>\n",
       "      <td>11.96</td>\n",
       "      <td>60.14</td>\n",
       "    </tr>\n",
       "  </tbody>\n",
       "</table>\n",
       "</div>"
      ],
      "text/plain": [
       "platform           3DS     PC     PS3     PS4    PSV    Wii   WiiU    X360  \\\n",
       "year_of_release                                                              \n",
       "2011             63.20  35.03  156.78     NaN   4.63  59.65    NaN  143.84   \n",
       "2012             51.36  23.22  107.36     NaN  16.19  21.71  17.56   99.74   \n",
       "2013             56.57  12.38  113.25   25.99  10.59   8.59  21.65   88.58   \n",
       "2014             43.76  13.28   47.76  100.00  11.90   3.75  22.03   34.74   \n",
       "2015             27.78   8.52   16.82  118.90   6.25   1.14  16.35   11.96   \n",
       "\n",
       "platform          XOne  \n",
       "year_of_release         \n",
       "2011               NaN  \n",
       "2012               NaN  \n",
       "2013             18.96  \n",
       "2014             54.07  \n",
       "2015             60.14  "
      ]
     },
     "execution_count": 29,
     "metadata": {},
     "output_type": "execute_result"
    }
   ],
   "source": [
    "platform_pivot = actual_game_data.pivot_table(index='year_of_release', columns='platform',\n",
    "                                       values='all_sales', aggfunc='sum')\n",
    "\n",
    "\n",
    "\n",
    "platform_pivot = platform_pivot[platform_pivot.loc[2016].dropna().index]\n",
    "platform_pivot = platform_pivot.drop(2016)\n",
    "platform_pivot"
   ]
  },
  {
   "cell_type": "code",
   "execution_count": 30,
   "metadata": {},
   "outputs": [
    {
     "data": {
      "text/plain": [
       "Text(0.5, 1.0, 'platform sales trend')"
      ]
     },
     "execution_count": 30,
     "metadata": {},
     "output_type": "execute_result"
    },
    {
     "data": {
      "image/png": "[encoded data removed]",
      "text/plain": [
       "<Figure size 720x360 with 1 Axes>"
      ]
     },
     "metadata": {
      "needs_background": "light"
     },
     "output_type": "display_data"
    }
   ],
   "source": [
    "plt.figure(figsize=(10,5))\n",
    "plt.grid(True)\n",
    "sns.lineplot(data=platform_pivot, dashes=False, linewidth=2.5).set_title('platform sales trend')"
   ]
  },
  {
   "cell_type": "markdown",
   "metadata": {},
   "source": [
    "На графике видно, что перспективными игровыми платформами на момент 2016 года можно считать:\n",
    " - PS4;\n",
    " - XOne;\n",
    " - WiiU;\n",
    " - PC.\n",
    " \n",
    "Посмотрим на глобальные продажи игр в разбивке по платформам."
   ]
  },
  {
   "cell_type": "code",
   "execution_count": 31,
   "metadata": {},
   "outputs": [
    {
     "data": {
      "text/plain": [
       "Text(0.5, 1.0, 'platform sales boxplot')"
      ]
     },
     "execution_count": 31,
     "metadata": {},
     "output_type": "execute_result"
    },
    {
     "data": {
      "image/png": "[encoded data removed]",
      "text/plain": [
       "<Figure size 720x576 with 1 Axes>"
      ]
     },
     "metadata": {
      "needs_background": "light"
     },
     "output_type": "display_data"
    }
   ],
   "source": [
    "plt.figure(figsize=(10,8))\n",
    "ax = sns.boxplot(x='platform', y='all_sales', data=actual_game_data)\n",
    "ax.set_title('platform sales boxplot')"
   ]
  },
  {
   "cell_type": "markdown",
   "metadata": {},
   "source": [
    "Приблизим график по оси `y`."
   ]
  },
  {
   "cell_type": "code",
   "execution_count": 32,
   "metadata": {},
   "outputs": [
    {
     "data": {
      "image/png": "[encoded data removed]",
      "text/plain": [
       "<Figure size 720x720 with 1 Axes>"
      ]
     },
     "metadata": {
      "needs_background": "light"
     },
     "output_type": "display_data"
    }
   ],
   "source": [
    "plt.figure(figsize=(10,10))\n",
    "plt.grid(True)\n",
    "ax = sns.boxplot(x='platform', y='all_sales', data=actual_game_data);\n",
    "ax.set_title('platform sales boxplot zoom');\n",
    "ax.set_ylim(0, 3);"
   ]
  },
  {
   "cell_type": "code",
   "execution_count": 33,
   "metadata": {},
   "outputs": [
    {
     "data": {
      "text/html": [
       "<div>\n",
       "<style scoped>\n",
       "    .dataframe tbody tr th:only-of-type {\n",
       "        vertical-align: middle;\n",
       "    }\n",
       "\n",
       "    .dataframe tbody tr th {\n",
       "        vertical-align: top;\n",
       "    }\n",
       "\n",
       "    .dataframe thead th {\n",
       "        text-align: right;\n",
       "    }\n",
       "</style>\n",
       "<table border=\"1\" class=\"dataframe\">\n",
       "  <thead>\n",
       "    <tr style=\"text-align: right;\">\n",
       "      <th></th>\n",
       "      <th>mean</th>\n",
       "      <th>median</th>\n",
       "      <th>count</th>\n",
       "      <th>sum</th>\n",
       "    </tr>\n",
       "    <tr>\n",
       "      <th>platform</th>\n",
       "      <th></th>\n",
       "      <th></th>\n",
       "      <th></th>\n",
       "      <th></th>\n",
       "    </tr>\n",
       "  </thead>\n",
       "  <tbody>\n",
       "    <tr>\n",
       "      <td>3DS</td>\n",
       "      <td>0.503535</td>\n",
       "      <td>0.12</td>\n",
       "      <td>512</td>\n",
       "      <td>257.81</td>\n",
       "    </tr>\n",
       "    <tr>\n",
       "      <td>DS</td>\n",
       "      <td>0.210489</td>\n",
       "      <td>0.08</td>\n",
       "      <td>184</td>\n",
       "      <td>38.73</td>\n",
       "    </tr>\n",
       "    <tr>\n",
       "      <td>PC</td>\n",
       "      <td>0.251105</td>\n",
       "      <td>0.08</td>\n",
       "      <td>389</td>\n",
       "      <td>97.68</td>\n",
       "    </tr>\n",
       "    <tr>\n",
       "      <td>PS3</td>\n",
       "      <td>0.629336</td>\n",
       "      <td>0.21</td>\n",
       "      <td>708</td>\n",
       "      <td>445.57</td>\n",
       "    </tr>\n",
       "    <tr>\n",
       "      <td>PS4</td>\n",
       "      <td>0.801378</td>\n",
       "      <td>0.20</td>\n",
       "      <td>392</td>\n",
       "      <td>314.14</td>\n",
       "    </tr>\n",
       "    <tr>\n",
       "      <td>PSP</td>\n",
       "      <td>0.092981</td>\n",
       "      <td>0.04</td>\n",
       "      <td>312</td>\n",
       "      <td>29.01</td>\n",
       "    </tr>\n",
       "    <tr>\n",
       "      <td>PSV</td>\n",
       "      <td>0.125431</td>\n",
       "      <td>0.05</td>\n",
       "      <td>429</td>\n",
       "      <td>53.81</td>\n",
       "    </tr>\n",
       "    <tr>\n",
       "      <td>Wii</td>\n",
       "      <td>0.482335</td>\n",
       "      <td>0.17</td>\n",
       "      <td>197</td>\n",
       "      <td>95.02</td>\n",
       "    </tr>\n",
       "    <tr>\n",
       "      <td>WiiU</td>\n",
       "      <td>0.559116</td>\n",
       "      <td>0.22</td>\n",
       "      <td>147</td>\n",
       "      <td>82.19</td>\n",
       "    </tr>\n",
       "    <tr>\n",
       "      <td>X360</td>\n",
       "      <td>0.763815</td>\n",
       "      <td>0.27</td>\n",
       "      <td>498</td>\n",
       "      <td>380.38</td>\n",
       "    </tr>\n",
       "    <tr>\n",
       "      <td>XOne</td>\n",
       "      <td>0.645020</td>\n",
       "      <td>0.22</td>\n",
       "      <td>247</td>\n",
       "      <td>159.32</td>\n",
       "    </tr>\n",
       "  </tbody>\n",
       "</table>\n",
       "</div>"
      ],
      "text/plain": [
       "              mean  median  count     sum\n",
       "platform                                 \n",
       "3DS       0.503535    0.12    512  257.81\n",
       "DS        0.210489    0.08    184   38.73\n",
       "PC        0.251105    0.08    389   97.68\n",
       "PS3       0.629336    0.21    708  445.57\n",
       "PS4       0.801378    0.20    392  314.14\n",
       "PSP       0.092981    0.04    312   29.01\n",
       "PSV       0.125431    0.05    429   53.81\n",
       "Wii       0.482335    0.17    197   95.02\n",
       "WiiU      0.559116    0.22    147   82.19\n",
       "X360      0.763815    0.27    498  380.38\n",
       "XOne      0.645020    0.22    247  159.32"
      ]
     },
     "execution_count": 33,
     "metadata": {},
     "output_type": "execute_result"
    }
   ],
   "source": [
    "actual_game_data.groupby('platform').agg(['mean','median','count','sum'])['all_sales']"
   ]
  },
  {
   "cell_type": "markdown",
   "metadata": {},
   "source": [
    "График представляет из себя набор выбросов, изучив медиану выручки и количество игр, приходим к выводу, что большой вклад в количество проданных игр по платформам делают несколько десятков хитов. Причем консоли нового поколения делают упор на такие игры."
   ]
  },
  {
   "cell_type": "markdown",
   "metadata": {},
   "source": [
    "### Выводы.\n",
    "Проанализировав график зависмости количества проданых копий от года, мы смогли выделить потенциально прибыльные платформы, на 2016 год это были:\n",
    " - PS4;\n",
    " - XOne;\n",
    " - WiiU;\n",
    " - PC.\n",
    "\n",
    "Также мы пришли к выводу, что большой вклад в общую прибыль по платформам делают отдельные хиты. Распределение по плотформам показывает, что основная борьба идет между `PS` и `Xbox`, отстаёт от них `wii`. Рынок игр на PC один из самых скромных, поэтому издатели крупных игр чаще делают игры под определенную консоль."
   ]
  },
  {
   "cell_type": "markdown",
   "metadata": {},
   "source": [
    "### 2.3 Оценим влияние отзывов на продажи игр внутри одной платформы.\n",
    "Целевой платформой для исследования выберем перспективную платформу с максимальным количеством информации."
   ]
  },
  {
   "cell_type": "code",
   "execution_count": 34,
   "metadata": {},
   "outputs": [
    {
     "data": {
      "text/plain": [
       "platform\n",
       "3DS     512\n",
       "DS      184\n",
       "PC      389\n",
       "PS3     708\n",
       "PS4     392\n",
       "PSP     312\n",
       "PSV     429\n",
       "Wii     197\n",
       "WiiU    147\n",
       "X360    498\n",
       "XOne    247\n",
       "Name: name, dtype: int64"
      ]
     },
     "execution_count": 34,
     "metadata": {},
     "output_type": "execute_result"
    }
   ],
   "source": [
    "actual_game_data.groupby('platform').count()['name']"
   ]
  },
  {
   "cell_type": "markdown",
   "metadata": {},
   "source": [
    "Выбираем PS4. Построим диаграмму рассеяния и посчитаем корреляцию между отзывами и продажами."
   ]
  },
  {
   "cell_type": "code",
   "execution_count": 35,
   "metadata": {},
   "outputs": [],
   "source": [
    "PS4_sales_score = actual_game_data.query('platform == \"PS4\"')[['all_sales', 'critic_score', 'user_score']]"
   ]
  },
  {
   "cell_type": "code",
   "execution_count": 36,
   "metadata": {},
   "outputs": [
    {
     "data": {
      "text/plain": [
       "<Figure size 576x576 with 0 Axes>"
      ]
     },
     "metadata": {},
     "output_type": "display_data"
    },
    {
     "data": {
      "image/png": "[encoded data removed]",
      "text/plain": [
       "<Figure size 540x540 with 12 Axes>"
      ]
     },
     "metadata": {
      "needs_background": "light"
     },
     "output_type": "display_data"
    }
   ],
   "source": [
    "plt.figure(figsize=(8,8));\n",
    "ax = sns.pairplot(PS4_sales_score, palette='Set1', diag_kind='kde');\n",
    "ax.axes[0,1].set_ylim(0,5);\n",
    "ax.fig.suptitle(\"PS3 scatter\", y=1.08);"
   ]
  },
  {
   "cell_type": "markdown",
   "metadata": {},
   "source": [
    "По диаграмме рассеивания трудно судить о степени влияния оценки критиков и пользователей на суммарные продажи в мире.\n",
    "\n",
    "Мы можем утверждать, что большая часть самых продаваемых игр была оценена критиками от 80 до 100 баллов. Хоть мы и видим, что есть положительная связь между рейтингом критиков и пользователей, но в части хитов, их оценки кардинально отличаются.\n",
    "\n",
    "Ещё одна интересная особенность, которую мы можем увидеть на графике - если игра имеет высокий рейтинг у пользователей, то больше вероятность, что она высоко оценена и критиками, чем в обратном случае. \n"
   ]
  },
  {
   "cell_type": "code",
   "execution_count": 37,
   "metadata": {},
   "outputs": [
    {
     "data": {
      "text/html": [
       "<div>\n",
       "<style scoped>\n",
       "    .dataframe tbody tr th:only-of-type {\n",
       "        vertical-align: middle;\n",
       "    }\n",
       "\n",
       "    .dataframe tbody tr th {\n",
       "        vertical-align: top;\n",
       "    }\n",
       "\n",
       "    .dataframe thead th {\n",
       "        text-align: right;\n",
       "    }\n",
       "</style>\n",
       "<table border=\"1\" class=\"dataframe\">\n",
       "  <thead>\n",
       "    <tr style=\"text-align: right;\">\n",
       "      <th></th>\n",
       "      <th>all_sales</th>\n",
       "      <th>critic_score</th>\n",
       "      <th>user_score</th>\n",
       "    </tr>\n",
       "  </thead>\n",
       "  <tbody>\n",
       "    <tr>\n",
       "      <td>all_sales</td>\n",
       "      <td>1.000000</td>\n",
       "      <td>0.406568</td>\n",
       "      <td>-0.031957</td>\n",
       "    </tr>\n",
       "    <tr>\n",
       "      <td>critic_score</td>\n",
       "      <td>0.406568</td>\n",
       "      <td>1.000000</td>\n",
       "      <td>0.557654</td>\n",
       "    </tr>\n",
       "    <tr>\n",
       "      <td>user_score</td>\n",
       "      <td>-0.031957</td>\n",
       "      <td>0.557654</td>\n",
       "      <td>1.000000</td>\n",
       "    </tr>\n",
       "  </tbody>\n",
       "</table>\n",
       "</div>"
      ],
      "text/plain": [
       "              all_sales  critic_score  user_score\n",
       "all_sales      1.000000      0.406568   -0.031957\n",
       "critic_score   0.406568      1.000000    0.557654\n",
       "user_score    -0.031957      0.557654    1.000000"
      ]
     },
     "metadata": {},
     "output_type": "display_data"
    },
    {
     "data": {
      "image/png": "[encoded data removed]",
      "text/plain": [
       "<Figure size 720x360 with 2 Axes>"
      ]
     },
     "metadata": {
      "needs_background": "light"
     },
     "output_type": "display_data"
    }
   ],
   "source": [
    "display(PS4_sales_score.corr())\n",
    "plt.figure(figsize=(10,5))\n",
    "sns.heatmap(PS4_sales_score.corr(),cmap='coolwarm',annot=True).set_title('PS4 heatmap');"
   ]
  },
  {
   "cell_type": "markdown",
   "metadata": {},
   "source": [
    "Отсечем игры с количеством суммарных продаж больше 5млн., именно с этой цифры на графике начинаются видимые рассхождения между оценками, и посмотрим корреляцию."
   ]
  },
  {
   "cell_type": "code",
   "execution_count": 38,
   "metadata": {},
   "outputs": [
    {
     "data": {
      "text/html": [
       "<div>\n",
       "<style scoped>\n",
       "    .dataframe tbody tr th:only-of-type {\n",
       "        vertical-align: middle;\n",
       "    }\n",
       "\n",
       "    .dataframe tbody tr th {\n",
       "        vertical-align: top;\n",
       "    }\n",
       "\n",
       "    .dataframe thead th {\n",
       "        text-align: right;\n",
       "    }\n",
       "</style>\n",
       "<table border=\"1\" class=\"dataframe\">\n",
       "  <thead>\n",
       "    <tr style=\"text-align: right;\">\n",
       "      <th></th>\n",
       "      <th>all_sales</th>\n",
       "      <th>critic_score</th>\n",
       "      <th>user_score</th>\n",
       "    </tr>\n",
       "  </thead>\n",
       "  <tbody>\n",
       "    <tr>\n",
       "      <td>all_sales</td>\n",
       "      <td>1.000000</td>\n",
       "      <td>0.364434</td>\n",
       "      <td>0.224772</td>\n",
       "    </tr>\n",
       "    <tr>\n",
       "      <td>critic_score</td>\n",
       "      <td>0.364434</td>\n",
       "      <td>1.000000</td>\n",
       "      <td>0.791266</td>\n",
       "    </tr>\n",
       "    <tr>\n",
       "      <td>user_score</td>\n",
       "      <td>0.224772</td>\n",
       "      <td>0.791266</td>\n",
       "      <td>1.000000</td>\n",
       "    </tr>\n",
       "  </tbody>\n",
       "</table>\n",
       "</div>"
      ],
      "text/plain": [
       "              all_sales  critic_score  user_score\n",
       "all_sales      1.000000      0.364434    0.224772\n",
       "critic_score   0.364434      1.000000    0.791266\n",
       "user_score     0.224772      0.791266    1.000000"
      ]
     },
     "metadata": {},
     "output_type": "display_data"
    }
   ],
   "source": [
    "display(PS4_sales_score.query('critic_score-user_score <= 5').corr())"
   ]
  },
  {
   "cell_type": "markdown",
   "metadata": {},
   "source": [
    "По значениям корреляции мы можем сделать вывод, что количество проданных копий игры в большей степени зависит от оценки критиков, чем от рейтинга пользователей.\n",
    "\n",
    "Возможно это связанно с тем, что для создания ажиотажа перед выходом игры зачастую используют оценки известных игровых обозревателей, которые могут работать в интересах издателей. Вышедшая игра, хоть и показывает хорошие продажи, но попадает под завышенные ожидания пользователей.\n",
    "\n",
    "При этом, если отсечь игры с наибольшим количеством продаж, то значения корреляции становятся схожи.\n",
    "\n",
    "Проверим, есть ли связь у игр в которых сильно рассходится оценка пользователей и критиков."
   ]
  },
  {
   "cell_type": "code",
   "execution_count": 39,
   "metadata": {},
   "outputs": [
    {
     "data": {
      "text/html": [
       "<div>\n",
       "<style scoped>\n",
       "    .dataframe tbody tr th:only-of-type {\n",
       "        vertical-align: middle;\n",
       "    }\n",
       "\n",
       "    .dataframe tbody tr th {\n",
       "        vertical-align: top;\n",
       "    }\n",
       "\n",
       "    .dataframe thead th {\n",
       "        text-align: right;\n",
       "    }\n",
       "</style>\n",
       "<table border=\"1\" class=\"dataframe\">\n",
       "  <thead>\n",
       "    <tr style=\"text-align: right;\">\n",
       "      <th></th>\n",
       "      <th>name</th>\n",
       "      <th>platform</th>\n",
       "      <th>year_of_release</th>\n",
       "      <th>genre</th>\n",
       "      <th>na_sales</th>\n",
       "      <th>eu_sales</th>\n",
       "      <th>jp_sales</th>\n",
       "      <th>other_sales</th>\n",
       "      <th>critic_score</th>\n",
       "      <th>user_score</th>\n",
       "      <th>rating</th>\n",
       "      <th>all_sales</th>\n",
       "    </tr>\n",
       "  </thead>\n",
       "  <tbody>\n",
       "    <tr>\n",
       "      <td>77</td>\n",
       "      <td>FIFA 16</td>\n",
       "      <td>PS4</td>\n",
       "      <td>2015</td>\n",
       "      <td>Sports</td>\n",
       "      <td>1.12</td>\n",
       "      <td>6.12</td>\n",
       "      <td>0.06</td>\n",
       "      <td>1.28</td>\n",
       "      <td>82.0</td>\n",
       "      <td>43.0</td>\n",
       "      <td>E</td>\n",
       "      <td>8.58</td>\n",
       "    </tr>\n",
       "    <tr>\n",
       "      <td>92</td>\n",
       "      <td>Call of Duty: Advanced Warfare</td>\n",
       "      <td>PS4</td>\n",
       "      <td>2014</td>\n",
       "      <td>Shooter</td>\n",
       "      <td>2.81</td>\n",
       "      <td>3.48</td>\n",
       "      <td>0.14</td>\n",
       "      <td>1.23</td>\n",
       "      <td>83.0</td>\n",
       "      <td>57.0</td>\n",
       "      <td>M</td>\n",
       "      <td>7.66</td>\n",
       "    </tr>\n",
       "    <tr>\n",
       "      <td>94</td>\n",
       "      <td>FIFA 17</td>\n",
       "      <td>PS4</td>\n",
       "      <td>2016</td>\n",
       "      <td>Sports</td>\n",
       "      <td>0.66</td>\n",
       "      <td>5.75</td>\n",
       "      <td>0.08</td>\n",
       "      <td>1.11</td>\n",
       "      <td>85.0</td>\n",
       "      <td>50.0</td>\n",
       "      <td>E</td>\n",
       "      <td>7.60</td>\n",
       "    </tr>\n",
       "    <tr>\n",
       "      <td>105</td>\n",
       "      <td>Fallout 4</td>\n",
       "      <td>PS4</td>\n",
       "      <td>2015</td>\n",
       "      <td>Role-Playing</td>\n",
       "      <td>2.53</td>\n",
       "      <td>3.27</td>\n",
       "      <td>0.24</td>\n",
       "      <td>1.13</td>\n",
       "      <td>87.0</td>\n",
       "      <td>65.0</td>\n",
       "      <td>M</td>\n",
       "      <td>7.17</td>\n",
       "    </tr>\n",
       "    <tr>\n",
       "      <td>42</td>\n",
       "      <td>Grand Theft Auto V</td>\n",
       "      <td>PS4</td>\n",
       "      <td>2014</td>\n",
       "      <td>Action</td>\n",
       "      <td>3.96</td>\n",
       "      <td>6.31</td>\n",
       "      <td>0.38</td>\n",
       "      <td>1.97</td>\n",
       "      <td>97.0</td>\n",
       "      <td>83.0</td>\n",
       "      <td>M</td>\n",
       "      <td>12.62</td>\n",
       "    </tr>\n",
       "  </tbody>\n",
       "</table>\n",
       "</div>"
      ],
      "text/plain": [
       "                               name platform  year_of_release         genre  \\\n",
       "77                          FIFA 16      PS4             2015        Sports   \n",
       "92   Call of Duty: Advanced Warfare      PS4             2014       Shooter   \n",
       "94                          FIFA 17      PS4             2016        Sports   \n",
       "105                       Fallout 4      PS4             2015  Role-Playing   \n",
       "42               Grand Theft Auto V      PS4             2014        Action   \n",
       "\n",
       "     na_sales  eu_sales  jp_sales  other_sales  critic_score  user_score  \\\n",
       "77       1.12      6.12      0.06         1.28          82.0        43.0   \n",
       "92       2.81      3.48      0.14         1.23          83.0        57.0   \n",
       "94       0.66      5.75      0.08         1.11          85.0        50.0   \n",
       "105      2.53      3.27      0.24         1.13          87.0        65.0   \n",
       "42       3.96      6.31      0.38         1.97          97.0        83.0   \n",
       "\n",
       "    rating  all_sales  \n",
       "77       E       8.58  \n",
       "92       M       7.66  \n",
       "94       E       7.60  \n",
       "105      M       7.17  \n",
       "42       M      12.62  "
      ]
     },
     "execution_count": 39,
     "metadata": {},
     "output_type": "execute_result"
    }
   ],
   "source": [
    "strange_game_filtr = (actual_game_data['all_sales'] > 7) & (actual_game_data['platform']=='PS4')\n",
    "actual_game_data[strange_game_filtr].sort_values(by=['critic_score', 'user_score']).head()"
   ]
  },
  {
   "cell_type": "markdown",
   "metadata": {},
   "source": [
    "Судя по данным, корпорация, которая выпускает эти игры, закладывает большую долю в бюджете на отзывы критиков, а не на игровую механику."
   ]
  },
  {
   "cell_type": "markdown",
   "metadata": {},
   "source": [
    "### Выводы\n",
    "Проанализировав влияние отзывов пользователей и критиков на продажи по отдельно взятой игровой консоли PS3, мы приходим в к выводу, что существует связь между оценкой критиков и количеством проданных игр. Коэффициент корреляции у этой связи - `0.36`. \n",
    "\n",
    "На диаграмме рассеяния видно, что для большей части вышедших игр оценки пользователей и критиков зависят друг от друга, это подтверждает и коэффициент корреляции `0.79`,  но для самых продаваемых игр, ситуация, зачастую, обратная. Проанализировав это рассхождение, мы видим, что в основном - это игры одной серии. Можем сделать вывод, что некоторые компании используют игровых обозревателей для улучшения продаваемости.\n",
    "\n",
    "Если убрать игры, с количеством суммарных продаж больше 5 млн., то значения корреляции становятся близкими друг к другу. Можем сделать вывод, что если рассматривать не блокбастеры, а обычные игры, то отзывы пользователей и критиков имеют схожую связь с продажами.\n",
    "\n",
    "Данный анализ мы можем расспространить на все остальные игровые платформы, ведь бизнес-модель продвижения игры схожа для любой из них.\n"
   ]
  },
  {
   "cell_type": "markdown",
   "metadata": {},
   "source": [
    "### 2.4 Исследуем игровые жанры на прибыльность.\n",
    "Посмотрим на распределение игр по жанрам."
   ]
  },
  {
   "cell_type": "code",
   "execution_count": 40,
   "metadata": {},
   "outputs": [
    {
     "data": {
      "image/png": "[encoded data removed]",
      "text/plain": [
       "<Figure size 1008x360 with 1 Axes>"
      ]
     },
     "metadata": {
      "needs_background": "light"
     },
     "output_type": "display_data"
    }
   ],
   "source": [
    "plt.figure(figsize=(14,5))\n",
    "plt.grid(True)\n",
    "g = sns.countplot(x='genre', data=actual_game_data).set_title('games genre count');"
   ]
  },
  {
   "cell_type": "markdown",
   "metadata": {},
   "source": [
    "Самый популярный жанр по количеству игр - `action`, за ним идут `rpg`, `Adventure` и `sports`.\n",
    "\n",
    "Посмотрим на расспределение прибыли по жанрам."
   ]
  },
  {
   "cell_type": "code",
   "execution_count": 41,
   "metadata": {},
   "outputs": [
    {
     "data": {
      "image/png": "[encoded data removed]",
      "text/plain": [
       "<Figure size 1008x360 with 1 Axes>"
      ]
     },
     "metadata": {
      "needs_background": "light"
     },
     "output_type": "display_data"
    }
   ],
   "source": [
    "plt.figure(figsize=(14,5))\n",
    "plt.grid(True)\n",
    "ax = sns.boxplot(x='all_sales', y='genre', data=actual_game_data).set_title('genre sales boxplot');"
   ]
  },
  {
   "cell_type": "markdown",
   "metadata": {},
   "source": [
    "Уже сейчас мы можем сказать, что продажи по жанрам отличаются, приблизим график по оси Х, так мы сможем точнее определить основное распределение."
   ]
  },
  {
   "cell_type": "code",
   "execution_count": 42,
   "metadata": {},
   "outputs": [
    {
     "data": {
      "image/png": "[encoded data removed]",
      "text/plain": [
       "<Figure size 1008x360 with 1 Axes>"
      ]
     },
     "metadata": {
      "needs_background": "light"
     },
     "output_type": "display_data"
    }
   ],
   "source": [
    "plt.figure(figsize=(14,5))\n",
    "plt.grid(True)\n",
    "ax = sns.boxplot(x='all_sales', y='genre', data=actual_game_data);\n",
    "ax.set_title('genre sales boxplot zoom');\n",
    "ax.set_xlim(0, 3);"
   ]
  },
  {
   "cell_type": "markdown",
   "metadata": {},
   "source": [
    "Больше всего продается игр жанра shooter, это объясняется и большим количеством вышедших игр, для уверенности в выводах, посчитаем отношение количество проданных игр к общему числу вышедших игр по платформе."
   ]
  },
  {
   "cell_type": "code",
   "execution_count": 43,
   "metadata": {},
   "outputs": [
    {
     "name": "stdout",
     "output_type": "stream",
     "text": [
      "genre\n",
      "Action          0.439858\n",
      "Adventure       0.110319\n",
      "Fighting        0.422785\n",
      "Misc            0.371787\n",
      "Platform        0.726885\n",
      "Puzzle          0.138732\n",
      "Racing          0.490611\n",
      "Role-Playing    0.528237\n",
      "Shooter         1.224650\n",
      "Simulation      0.369559\n",
      "Sports          0.613705\n",
      "Strategy        0.189402\n",
      "dtype: float64\n"
     ]
    }
   ],
   "source": [
    "group_by_genre = actual_game_data.groupby('genre')['all_sales'].agg(['sum', 'count'])\n",
    "genre_sales = group_by_genre['sum']/group_by_genre['count']\n",
    "print(genre_sales)"
   ]
  },
  {
   "cell_type": "markdown",
   "metadata": {},
   "source": [
    "По этим данным мы можем сделать вывод, что жанры с наибольшим относительным количеством продаж - это `Shooter` и `Sports`, игры жанра `Adventure` и `Puzzle` мы можем отнести к жанрам с низкими продажами. \n",
    "\n",
    "Разделим жанры на 3 категории."
   ]
  },
  {
   "cell_type": "code",
   "execution_count": 44,
   "metadata": {},
   "outputs": [
    {
     "name": "stdout",
     "output_type": "stream",
     "text": [
      "low sales genre: Adventure, Puzzle, Strategy\n",
      "high sales genre: Platform, Shooter, Sports\n",
      "medium sales genre: Action, Fighting, Misc, Racing, Role-Playing, Simulation\n"
     ]
    }
   ],
   "source": [
    "x_low = genre_sales.quantile(0.25)\n",
    "x_high = genre_sales.quantile(0.75)\n",
    "print(\"low sales genre:\", ', '.join(genre_sales[genre_sales <= x_low].index))\n",
    "print(\"high sales genre:\", ', '.join(genre_sales[genre_sales >= x_high].index))\n",
    "print(\"medium sales genre:\", ', '.join(genre_sales[(genre_sales > x_low) & (genre_sales < x_high)].index))"
   ]
  },
  {
   "cell_type": "markdown",
   "metadata": {},
   "source": [
    "### Вывод\n",
    "По результатам анализа распределения игровых жанров по общим продажам, мы смогли разделить их на 3 группы.\n",
    "Жанры с высоким количеством продаж:\n",
    "   - Platform\n",
    "   - Shooter\n",
    "   - Sports\n",
    "   \n",
    "Жанры с низким количеством продаж:\n",
    "   - Adventure\n",
    "   - Puzzle\n",
    "   - Strategy\n",
    "   \n",
    "Жанры с обычным количеством продаж:\n",
    "   - Action\n",
    "   - Fighting\n",
    "   - Racing\n",
    "   - Role-Playing\n",
    "   - Simulation\n",
    "   - Fighting"
   ]
  },
  {
   "cell_type": "markdown",
   "metadata": {},
   "source": [
    "## Выводы по разделу."
   ]
  },
  {
   "cell_type": "markdown",
   "metadata": {},
   "source": [
    "Мы провели исследовательский анализ наших данных. Определив, что среднее время жизни игровой платформы составляет 10 лет и посмотрев на распределение количества вышедших игр по годам, мы выбрали актуальный для нас отрезок времени, это период начиная с 2008 года.\n",
    "\n",
    "Для оценки перспективности платформы мы построили график зависимости количества проданных копий игр от года, по нему мы выбрали те платформы, продажи по которым росли на конец 2015 года. Таким образом мы смогли определить 4 перспективные платформы:\n",
    " - PS4;\n",
    " - XOne;\n",
    " - WiiU;\n",
    " - PC.\n",
    " \n",
    "Проанализировав распределение количества продаж по платформам, мы пришли к выводу, что они схожи между собой, отличает их количество выбросов, которые являются играми с большим количеством продаж, которые оказывают существенное влияние на популярность платформы.\n",
    "\n",
    "Оценивая влияние отзывов на продажи, мы нашли группу игр, у которых сильно рассходится пользовательская оценка и рейтинг критиков, причем, в основном, это игры, которые имеют большое количество продаж. Мы пришли к выводу, что это связано с тем, что критики зачастую бывают заинтересованы в выставлении необычно высоких оценок играм, что в итоге приводит к разочарованию конечного пользователя. \n",
    " Избавившись от таких аномальных игр, мы получили, что оценки пользователей и критиков схоже взаимосвязаны с количеством продаж, со следующими коэффициентами корреляции:\n",
    "- all_sales/critic_score = 0.49\n",
    "- all_sales/user_score = 0.35\n",
    "- critic_score/user_score = 0.84\n",
    "\n",
    "Учитывая то, что платформы имеют схожий график распределения игр по продажам, мы смогли экстраполировать вывод по одной конкретной платформе на все остальные.\n",
    "\n",
    " Проведя оценку прибыльности игр по жанрам, мы определили, что самые прибыльные жанры это:\n",
    "- Platform \n",
    "- Shooter  \n",
    "- Sports \n",
    "\n",
    "Жанры с наименьшим количеством продаж:\n",
    "- Adventure\n",
    "- Puzzle\n",
    "- Strategy\n",
    "   "
   ]
  },
  {
   "cell_type": "markdown",
   "metadata": {},
   "source": [
    "## 3. Определение типичного портрета пользователя по регионам.\n",
    "\n",
    "Для определения типично пользователя, найдем длz каждого региона следующие данные:\n",
    "- Самые популярные платформы (топ-5)\n",
    "- Самые популярные жанры (топ-5)\n",
    "- Влияет ли рейтинг ESRB на продажи в отдельном регионе?\n",
    "\n",
    "### 3.1 Определим самые популярные платформы по регионам."
   ]
  },
  {
   "cell_type": "code",
   "execution_count": 45,
   "metadata": {},
   "outputs": [],
   "source": [
    "def pie_plot(_sales_favor, _labels, _name, _fig_size, _radius, _pad):\n",
    "    plt.show();\n",
    "    print(_name)\n",
    "\n",
    "\n",
    "    fig, axs = plt.subplots(2, 2, figsize=_fig_size);\n",
    "\n",
    "    # A standard pie plot\n",
    "    axs[0, 0].pie(_sales_favor['na'], labels=labels, autopct='%1.1f%%', radius=_radius)\n",
    "    axs[0, 0].set_title('NA_region', loc='left', size=16, pad=_pad)\n",
    "\n",
    "    # Shift the second slice using explode\n",
    "    axs[0, 1].pie(_sales_favor['eu'], labels=labels, autopct='%.0f%%', radius=_radius)\n",
    "    axs[0, 1].set_title('EU_region', loc='left', size=16, pad=_pad)\n",
    "\n",
    "    axs[1, 0].pie(_sales_favor['jp'], labels=labels, autopct='%.0f%%', radius=_radius)\n",
    "    axs[1, 0].set_title('JP_region', loc='left', size=16, pad=_pad)\n",
    "\n",
    "    axs[1, 1].pie(_sales_favor['other'], labels=labels, autopct='%.0f%%')\n",
    "    axs[1, 1].set_title('OTHER_region', loc='left', size=12);"
   ]
  },
  {
   "cell_type": "code",
   "execution_count": 46,
   "metadata": {},
   "outputs": [],
   "source": [
    "platform_data = actual_game_data.groupby('platform').sum()\n",
    "\n",
    "sales_favor = pd.DataFrame()\n",
    "\n",
    "sales_favor['na'] = platform_data['na_sales'] / platform_data['na_sales'].sum()\n",
    "sales_favor['eu'] = platform_data['eu_sales'] / platform_data['eu_sales'].sum()\n",
    "sales_favor['jp'] = platform_data['jp_sales'] / platform_data['jp_sales'].sum()\n",
    "sales_favor['other'] = platform_data['other_sales'] / platform_data['other_sales'].sum()"
   ]
  },
  {
   "cell_type": "code",
   "execution_count": 47,
   "metadata": {},
   "outputs": [
    {
     "data": {
      "image/png": "[encoded data removed]",
      "text/plain": [
       "<Figure size 720x360 with 1 Axes>"
      ]
     },
     "metadata": {},
     "output_type": "display_data"
    }
   ],
   "source": [
    "sns.set()\n",
    "ax = sales_favor.T.plot(kind='bar', figsize=(10,5))\n",
    "\n",
    "ax.legend(bbox_to_anchor=(1.0, 1.0))\n",
    "plt.ylabel('All sales')\n",
    "plt.xlabel('Region')\n",
    "plt.title(\"Platform sales on region\")\n",
    "\n",
    "plt.grid(True)\n",
    "plt.show()"
   ]
  },
  {
   "cell_type": "code",
   "execution_count": 48,
   "metadata": {},
   "outputs": [
    {
     "data": {
      "text/html": [
       "<div>\n",
       "<style scoped>\n",
       "    .dataframe tbody tr th:only-of-type {\n",
       "        vertical-align: middle;\n",
       "    }\n",
       "\n",
       "    .dataframe tbody tr th {\n",
       "        vertical-align: top;\n",
       "    }\n",
       "\n",
       "    .dataframe thead th {\n",
       "        text-align: right;\n",
       "    }\n",
       "</style>\n",
       "<table border=\"1\" class=\"dataframe\">\n",
       "  <thead>\n",
       "    <tr style=\"text-align: right;\">\n",
       "      <th></th>\n",
       "      <th>na</th>\n",
       "      <th>eu</th>\n",
       "      <th>jp</th>\n",
       "      <th>other</th>\n",
       "    </tr>\n",
       "    <tr>\n",
       "      <th>platform</th>\n",
       "      <th></th>\n",
       "      <th></th>\n",
       "      <th></th>\n",
       "      <th></th>\n",
       "    </tr>\n",
       "  </thead>\n",
       "  <tbody>\n",
       "    <tr>\n",
       "      <td>PC</td>\n",
       "      <td>0.036016</td>\n",
       "      <td>0.084670</td>\n",
       "      <td>0.000000</td>\n",
       "      <td>0.053158</td>\n",
       "    </tr>\n",
       "    <tr>\n",
       "      <td>XOne</td>\n",
       "      <td>0.112243</td>\n",
       "      <td>0.077039</td>\n",
       "      <td>0.001385</td>\n",
       "      <td>0.068340</td>\n",
       "    </tr>\n",
       "    <tr>\n",
       "      <td>X360</td>\n",
       "      <td>0.273375</td>\n",
       "      <td>0.174865</td>\n",
       "      <td>0.013642</td>\n",
       "      <td>0.158661</td>\n",
       "    </tr>\n",
       "    <tr>\n",
       "      <td>DS</td>\n",
       "      <td>0.022733</td>\n",
       "      <td>0.013798</td>\n",
       "      <td>0.032741</td>\n",
       "      <td>0.012404</td>\n",
       "    </tr>\n",
       "    <tr>\n",
       "      <td>Wii</td>\n",
       "      <td>0.058532</td>\n",
       "      <td>0.044202</td>\n",
       "      <td>0.036529</td>\n",
       "      <td>0.037786</td>\n",
       "    </tr>\n",
       "    <tr>\n",
       "      <td>WiiU</td>\n",
       "      <td>0.045924</td>\n",
       "      <td>0.037527</td>\n",
       "      <td>0.052981</td>\n",
       "      <td>0.028495</td>\n",
       "    </tr>\n",
       "    <tr>\n",
       "      <td>PS4</td>\n",
       "      <td>0.131070</td>\n",
       "      <td>0.210689</td>\n",
       "      <td>0.064994</td>\n",
       "      <td>0.231550</td>\n",
       "    </tr>\n",
       "    <tr>\n",
       "      <td>PSV</td>\n",
       "      <td>0.015031</td>\n",
       "      <td>0.019517</td>\n",
       "      <td>0.088940</td>\n",
       "      <td>0.030794</td>\n",
       "    </tr>\n",
       "    <tr>\n",
       "      <td>PSP</td>\n",
       "      <td>0.002640</td>\n",
       "      <td>0.002643</td>\n",
       "      <td>0.097899</td>\n",
       "      <td>0.004837</td>\n",
       "    </tr>\n",
       "    <tr>\n",
       "      <td>PS3</td>\n",
       "      <td>0.202813</td>\n",
       "      <td>0.243556</td>\n",
       "      <td>0.201132</td>\n",
       "      <td>0.310426</td>\n",
       "    </tr>\n",
       "    <tr>\n",
       "      <td>3DS</td>\n",
       "      <td>0.099623</td>\n",
       "      <td>0.091494</td>\n",
       "      <td>0.409757</td>\n",
       "      <td>0.063551</td>\n",
       "    </tr>\n",
       "  </tbody>\n",
       "</table>\n",
       "</div>"
      ],
      "text/plain": [
       "                na        eu        jp     other\n",
       "platform                                        \n",
       "PC        0.036016  0.084670  0.000000  0.053158\n",
       "XOne      0.112243  0.077039  0.001385  0.068340\n",
       "X360      0.273375  0.174865  0.013642  0.158661\n",
       "DS        0.022733  0.013798  0.032741  0.012404\n",
       "Wii       0.058532  0.044202  0.036529  0.037786\n",
       "WiiU      0.045924  0.037527  0.052981  0.028495\n",
       "PS4       0.131070  0.210689  0.064994  0.231550\n",
       "PSV       0.015031  0.019517  0.088940  0.030794\n",
       "PSP       0.002640  0.002643  0.097899  0.004837\n",
       "PS3       0.202813  0.243556  0.201132  0.310426\n",
       "3DS       0.099623  0.091494  0.409757  0.063551"
      ]
     },
     "execution_count": 48,
     "metadata": {},
     "output_type": "execute_result"
    }
   ],
   "source": [
    "sales_favor.sort_values(by='jp')"
   ]
  },
  {
   "cell_type": "markdown",
   "metadata": {},
   "source": [
    "### Вывод\n",
    "\n",
    "Топ-5 по регионам выглядит следующим образом:\n",
    "\n",
    "    NA:                  EU:                 JP:\n",
    "    1. X360(0.27)        1. PS3(0.24)        1. 3DS(0.4)\n",
    "    2. PS3(0.20)         2. PS4(0.21)        2. PS3(0.24)\n",
    "    3. PS4(0.13)         3. X360(0.17)       3. PSP(0.09)\n",
    "    4. XOne(0.11)        4. 3DS(0.09)        4. PSV(0.08)\n",
    "    5. 3DS(0.09)         5. PC(0.08)         5. PS4(0.6)\n",
    "    \n",
    "Мы видим, что рынок Японии больше ориентирован на портативные платформы, доля продаж на них составляет 46% от общего числа продаж в Японии. \n",
    "\n",
    "Самая популярная платформа - `PS3`, она занимает первое место в Европе(24%), в Северной Америке и Японии второе место с охватом 20% и 24% соотвественно.\n",
    "\n",
    "На втором месте `X360`, она занимает первое место в Северной Америке(27%) и третье в Европе(17%).\n",
    "\n",
    "Японский рынок очень локальный."
   ]
  },
  {
   "cell_type": "markdown",
   "metadata": {},
   "source": [
    "### 3.2 Определим популярные жанры по регионам."
   ]
  },
  {
   "cell_type": "code",
   "execution_count": 49,
   "metadata": {},
   "outputs": [],
   "source": [
    "genre_data = actual_game_data.groupby('genre').sum()\n",
    "\n",
    "sales_favor = pd.DataFrame()\n",
    "\n",
    "sales_favor['na'] = genre_data['na_sales'] / genre_data['na_sales'].sum()\n",
    "sales_favor['eu'] = genre_data['eu_sales'] / genre_data['eu_sales'].sum()\n",
    "sales_favor['jp'] = genre_data['jp_sales'] / genre_data['jp_sales'].sum()\n",
    "sales_favor['other'] = genre_data['other_sales'] / genre_data['other_sales'].sum()"
   ]
  },
  {
   "cell_type": "code",
   "execution_count": 50,
   "metadata": {},
   "outputs": [
    {
     "data": {
      "image/png": "[encoded data removed]",
      "text/plain": [
       "<Figure size 720x360 with 1 Axes>"
      ]
     },
     "metadata": {},
     "output_type": "display_data"
    }
   ],
   "source": [
    "sns.set()\n",
    "ax = sales_favor.T.plot(kind='bar', figsize=(10,5))\n",
    "\n",
    "ax.legend(bbox_to_anchor=(1.0, 1.0))\n",
    "plt.ylabel('All sales')\n",
    "plt.xlabel('Region')\n",
    "plt.title(\"Genre sales on region\")\n",
    "\n",
    "plt.grid(True)\n",
    "plt.show()"
   ]
  },
  {
   "cell_type": "code",
   "execution_count": 51,
   "metadata": {},
   "outputs": [
    {
     "data": {
      "text/html": [
       "<div>\n",
       "<style scoped>\n",
       "    .dataframe tbody tr th:only-of-type {\n",
       "        vertical-align: middle;\n",
       "    }\n",
       "\n",
       "    .dataframe tbody tr th {\n",
       "        vertical-align: top;\n",
       "    }\n",
       "\n",
       "    .dataframe thead th {\n",
       "        text-align: right;\n",
       "    }\n",
       "</style>\n",
       "<table border=\"1\" class=\"dataframe\">\n",
       "  <thead>\n",
       "    <tr style=\"text-align: right;\">\n",
       "      <th></th>\n",
       "      <th>na</th>\n",
       "      <th>eu</th>\n",
       "      <th>jp</th>\n",
       "      <th>other</th>\n",
       "    </tr>\n",
       "    <tr>\n",
       "      <th>genre</th>\n",
       "      <th></th>\n",
       "      <th></th>\n",
       "      <th></th>\n",
       "      <th></th>\n",
       "    </tr>\n",
       "  </thead>\n",
       "  <tbody>\n",
       "    <tr>\n",
       "      <td>Puzzle</td>\n",
       "      <td>0.003303</td>\n",
       "      <td>0.005316</td>\n",
       "      <td>0.011850</td>\n",
       "      <td>0.003065</td>\n",
       "    </tr>\n",
       "    <tr>\n",
       "      <td>Strategy</td>\n",
       "      <td>0.009016</td>\n",
       "      <td>0.011976</td>\n",
       "      <td>0.019466</td>\n",
       "      <td>0.009003</td>\n",
       "    </tr>\n",
       "    <tr>\n",
       "      <td>Racing</td>\n",
       "      <td>0.038547</td>\n",
       "      <td>0.060598</td>\n",
       "      <td>0.022968</td>\n",
       "      <td>0.048417</td>\n",
       "    </tr>\n",
       "    <tr>\n",
       "      <td>Sports</td>\n",
       "      <td>0.130926</td>\n",
       "      <td>0.131992</td>\n",
       "      <td>0.045162</td>\n",
       "      <td>0.137877</td>\n",
       "    </tr>\n",
       "    <tr>\n",
       "      <td>Simulation</td>\n",
       "      <td>0.018526</td>\n",
       "      <td>0.029448</td>\n",
       "      <td>0.047402</td>\n",
       "      <td>0.016905</td>\n",
       "    </tr>\n",
       "    <tr>\n",
       "      <td>Shooter</td>\n",
       "      <td>0.234357</td>\n",
       "      <td>0.221038</td>\n",
       "      <td>0.048542</td>\n",
       "      <td>0.232460</td>\n",
       "    </tr>\n",
       "    <tr>\n",
       "      <td>Adventure</td>\n",
       "      <td>0.017791</td>\n",
       "      <td>0.020846</td>\n",
       "      <td>0.049031</td>\n",
       "      <td>0.020353</td>\n",
       "    </tr>\n",
       "    <tr>\n",
       "      <td>Platform</td>\n",
       "      <td>0.046141</td>\n",
       "      <td>0.044903</td>\n",
       "      <td>0.049397</td>\n",
       "      <td>0.039270</td>\n",
       "    </tr>\n",
       "    <tr>\n",
       "      <td>Fighting</td>\n",
       "      <td>0.038065</td>\n",
       "      <td>0.024191</td>\n",
       "      <td>0.050415</td>\n",
       "      <td>0.031799</td>\n",
       "    </tr>\n",
       "    <tr>\n",
       "      <td>Misc</td>\n",
       "      <td>0.084001</td>\n",
       "      <td>0.059314</td>\n",
       "      <td>0.071673</td>\n",
       "      <td>0.059432</td>\n",
       "    </tr>\n",
       "    <tr>\n",
       "      <td>Action</td>\n",
       "      <td>0.278341</td>\n",
       "      <td>0.297345</td>\n",
       "      <td>0.258837</td>\n",
       "      <td>0.307169</td>\n",
       "    </tr>\n",
       "    <tr>\n",
       "      <td>Role-Playing</td>\n",
       "      <td>0.100985</td>\n",
       "      <td>0.093032</td>\n",
       "      <td>0.325257</td>\n",
       "      <td>0.094248</td>\n",
       "    </tr>\n",
       "  </tbody>\n",
       "</table>\n",
       "</div>"
      ],
      "text/plain": [
       "                    na        eu        jp     other\n",
       "genre                                               \n",
       "Puzzle        0.003303  0.005316  0.011850  0.003065\n",
       "Strategy      0.009016  0.011976  0.019466  0.009003\n",
       "Racing        0.038547  0.060598  0.022968  0.048417\n",
       "Sports        0.130926  0.131992  0.045162  0.137877\n",
       "Simulation    0.018526  0.029448  0.047402  0.016905\n",
       "Shooter       0.234357  0.221038  0.048542  0.232460\n",
       "Adventure     0.017791  0.020846  0.049031  0.020353\n",
       "Platform      0.046141  0.044903  0.049397  0.039270\n",
       "Fighting      0.038065  0.024191  0.050415  0.031799\n",
       "Misc          0.084001  0.059314  0.071673  0.059432\n",
       "Action        0.278341  0.297345  0.258837  0.307169\n",
       "Role-Playing  0.100985  0.093032  0.325257  0.094248"
      ]
     },
     "execution_count": 51,
     "metadata": {},
     "output_type": "execute_result"
    }
   ],
   "source": [
    "sales_favor.sort_values(by='jp')"
   ]
  },
  {
   "cell_type": "markdown",
   "metadata": {},
   "source": [
    "### Вывод\n",
    "\n",
    "Топ-5 по регионам выглядит следующим образом:\n",
    "\n",
    "    NA:                          EU:                           JP:\n",
    "    1. Action(0.27)              1. Action(0.29)               1. Role-Playing(0.32)\n",
    "    2. Shooter(0.23)             2. Shooter(0.22)              2. Action(0.26)\n",
    "    3. Sports(0.13)              3. Sports(0.12)               3. Misc(0.07)\n",
    "    4. Role-Playing(0.10)        4. Role-Playing(0.09)         4. Fighting(0.05)\n",
    "    5. Misc(0.08)                5. Racing(0.06)               5. Platform(0.05)\n",
    "    \n",
    "Если рассматривать по жанрам, то рынок Северной Америки схож с рынком Европы, единственное отличие, что в Европе в топе присутствуют гоночные игры. Рынок Японии сильно отличается от остальных. Так как там преобладают портативные консоли, то больший охват имеют платформеры и РПГ.\n",
    "\n",
    "\n",
    "Самый популярный жанр - `Action`, он занимает первое место почти во всех регионах с средним охватом 28%.\n",
    "\n",
    "### 3.3 Определим влияние возрастного рейтинга на продажи по регионам. "
   ]
  },
  {
   "cell_type": "code",
   "execution_count": 52,
   "metadata": {},
   "outputs": [
    {
     "data": {
      "text/plain": [
       "array(['M', nan, 'E', 'E10+', 'T', 'EC', 'RP'], dtype=object)"
      ]
     },
     "execution_count": 52,
     "metadata": {},
     "output_type": "execute_result"
    }
   ],
   "source": [
    "actual_game_data = actual_game_data[actual_game_data['rating'] != -1]\n",
    "actual_game_data['rating'].unique()"
   ]
  },
  {
   "cell_type": "markdown",
   "metadata": {},
   "source": [
    "Для того, чтобы учесть игры без присвоенного рейтинга, заменим пропуски в этих данных на значение \"NI\" - no information."
   ]
  },
  {
   "cell_type": "code",
   "execution_count": 53,
   "metadata": {},
   "outputs": [],
   "source": [
    "actual_game_data['rating'].fillna('NI', inplace=True)"
   ]
  },
  {
   "cell_type": "code",
   "execution_count": 54,
   "metadata": {},
   "outputs": [],
   "source": [
    "raiting_dara = actual_game_data.groupby('rating').sum()\n",
    "\n",
    "sales_favor = pd.DataFrame()\n",
    "\n",
    "sales_favor['na'] = raiting_dara['na_sales'] / raiting_dara['na_sales'].sum()\n",
    "sales_favor['eu'] = raiting_dara['eu_sales'] / raiting_dara['eu_sales'].sum()\n",
    "sales_favor['jp'] = raiting_dara['jp_sales'] / raiting_dara['jp_sales'].sum()\n",
    "sales_favor['other'] = raiting_dara['other_sales'] / raiting_dara['other_sales'].sum()"
   ]
  },
  {
   "cell_type": "code",
   "execution_count": 55,
   "metadata": {},
   "outputs": [
    {
     "data": {
      "image/png": "[encoded data removed]",
      "text/plain": [
       "<Figure size 720x360 with 1 Axes>"
      ]
     },
     "metadata": {},
     "output_type": "display_data"
    }
   ],
   "source": [
    "sns.set()\n",
    "ax = sales_favor.T.plot(kind='bar', figsize=(10,5))\n",
    "\n",
    "ax.legend(bbox_to_anchor=(1.0, 1.0))\n",
    "plt.ylabel('All sales')\n",
    "plt.xlabel('Region')\n",
    "plt.title(\"Genre sales on region\")\n",
    "\n",
    "plt.grid(True)\n",
    "plt.show()"
   ]
  },
  {
   "cell_type": "code",
   "execution_count": 56,
   "metadata": {},
   "outputs": [
    {
     "data": {
      "text/html": [
       "<div>\n",
       "<style scoped>\n",
       "    .dataframe tbody tr th:only-of-type {\n",
       "        vertical-align: middle;\n",
       "    }\n",
       "\n",
       "    .dataframe tbody tr th {\n",
       "        vertical-align: top;\n",
       "    }\n",
       "\n",
       "    .dataframe thead th {\n",
       "        text-align: right;\n",
       "    }\n",
       "</style>\n",
       "<table border=\"1\" class=\"dataframe\">\n",
       "  <thead>\n",
       "    <tr style=\"text-align: right;\">\n",
       "      <th></th>\n",
       "      <th>na</th>\n",
       "      <th>eu</th>\n",
       "      <th>jp</th>\n",
       "      <th>other</th>\n",
       "    </tr>\n",
       "    <tr>\n",
       "      <th>rating</th>\n",
       "      <th></th>\n",
       "      <th></th>\n",
       "      <th></th>\n",
       "      <th></th>\n",
       "    </tr>\n",
       "  </thead>\n",
       "  <tbody>\n",
       "    <tr>\n",
       "      <td>RP</td>\n",
       "      <td>0.000000</td>\n",
       "      <td>0.000045</td>\n",
       "      <td>0.000000</td>\n",
       "      <td>0.000048</td>\n",
       "    </tr>\n",
       "    <tr>\n",
       "      <td>EC</td>\n",
       "      <td>0.000506</td>\n",
       "      <td>0.000000</td>\n",
       "      <td>0.000000</td>\n",
       "      <td>0.000144</td>\n",
       "    </tr>\n",
       "    <tr>\n",
       "      <td>T</td>\n",
       "      <td>0.131697</td>\n",
       "      <td>0.124123</td>\n",
       "      <td>0.135975</td>\n",
       "      <td>0.134859</td>\n",
       "    </tr>\n",
       "    <tr>\n",
       "      <td>E10+</td>\n",
       "      <td>0.141895</td>\n",
       "      <td>0.116477</td>\n",
       "      <td>0.045732</td>\n",
       "      <td>0.114506</td>\n",
       "    </tr>\n",
       "    <tr>\n",
       "      <td>NI</td>\n",
       "      <td>0.149091</td>\n",
       "      <td>0.174103</td>\n",
       "      <td>0.562714</td>\n",
       "      <td>0.162396</td>\n",
       "    </tr>\n",
       "    <tr>\n",
       "      <td>E</td>\n",
       "      <td>0.205019</td>\n",
       "      <td>0.211540</td>\n",
       "      <td>0.149129</td>\n",
       "      <td>0.195537</td>\n",
       "    </tr>\n",
       "    <tr>\n",
       "      <td>M</td>\n",
       "      <td>0.371792</td>\n",
       "      <td>0.373712</td>\n",
       "      <td>0.106451</td>\n",
       "      <td>0.392510</td>\n",
       "    </tr>\n",
       "  </tbody>\n",
       "</table>\n",
       "</div>"
      ],
      "text/plain": [
       "              na        eu        jp     other\n",
       "rating                                        \n",
       "RP      0.000000  0.000045  0.000000  0.000048\n",
       "EC      0.000506  0.000000  0.000000  0.000144\n",
       "T       0.131697  0.124123  0.135975  0.134859\n",
       "E10+    0.141895  0.116477  0.045732  0.114506\n",
       "NI      0.149091  0.174103  0.562714  0.162396\n",
       "E       0.205019  0.211540  0.149129  0.195537\n",
       "M       0.371792  0.373712  0.106451  0.392510"
      ]
     },
     "execution_count": 56,
     "metadata": {},
     "output_type": "execute_result"
    }
   ],
   "source": [
    "sales_favor.sort_values(by='na')"
   ]
  },
  {
   "cell_type": "markdown",
   "metadata": {},
   "source": [
    "### Вывод\n"
   ]
  },
  {
   "cell_type": "markdown",
   "metadata": {},
   "source": [
    "График охвата игр по рейтингу ESRB показывает, что рэйтинг не оказывает влияние на распределение игр по Североамериканскому и Европейскому рынкам, но сильно влияет на Японский. \n",
    "\n",
    "В Японии сильно меньше продается игр с рейтингом `М`, их место занимают игры с рейтингом `Е` и `Т`, скорее всего это связано с тем, что в японии больше популярным платформеры и рпг, которые, в большинстве своем, имеют рейтинг `Т`, а вот шутеры не так распространены, поэтому доля игр с рейтингом `М` мала.\n",
    "\n",
    "При этом в Японии более половины всех проданных игр - не имеют рейтинга. Это может означать, что в Японии более локальный рынок и местным издателям не обязательна такая сертификация выпускаемой продукции."
   ]
  },
  {
   "cell_type": "markdown",
   "metadata": {},
   "source": [
    "## Выводы по разделу.\n",
    "Проведя анализ распространённости платформ, жанров и игр с разными возрастными рейтингами, мы можем составить портрет пользователя для каждого региона.\n",
    "\n",
    "Пользователи из Северной Америки предпочитают платформу `X360`, на втором месте с большим отрывом `PS3`, на третьем `Wii`, также, как игровая платформа не распространён персональный компьютер. Самые популярные жанры - это `Action`, `Sports` и `Shooter`, при этом возрастной рейтинг игр не имеет влияния на продажи в регионе.\n",
    "\n",
    "Европейские пользователи почти одинаково используют `PS3` и `X360`, `Wii` занимает третье место. Европейцы чаще используют персональные компьютеры для игр. К любимым жанрам, помимо `Action`, `Sports` и `Shooter`, добавились гоночные симуляторы. Возрастной рейтинг игр не имеет влияния на продажи в регионе.\n",
    "\n",
    "Пользователи из Японии сильно отличаются от пользователей из остальных регионов. Они используют только местные платформы `PS3`, `DS`, более распространены портативные консоли `3DS`, `DS`, `PSP`. Из-за большой распространенности портативных платформ в Японии большую часть рынка занимают  РПГ, экшен и платформеры. Также стоит учитывать, что игры с возрастным рейтингом `M` продаются куда хуже, чем с рейтингами `E` и `T`, но при этом, основная часть игр продается без рейтинга."
   ]
  },
  {
   "cell_type": "markdown",
   "metadata": {},
   "source": [
    "## 4. Проверка гипотез\n",
    "Нам необходимо проверить две гипотезы:\n",
    "- Средние пользовательские рейтинги платформ Xbox One и PC одинаковые;\n",
    "- Средние пользовательские рейтинги жанров Action и Sports разные.\n",
    "\n",
    "Для проверки этих гипотез будем использовать двусторонний т-тест, который оценивает вероятность того, что различия в распределениях обусловлены случайностью. Пороговое значение примем равным 0.05.\n",
    "\n",
    "Сформулируем гипотезы о равенстве средних проверяемых выборок.\n",
    "\n",
    "### 4.1 Средние пользовательские рейтинги платформ Xbox One и PC одинаковые\n",
    "Сформулируем нулевую гипотезу H0.\n",
    "\n",
    "    H0 - Средние пользовательских рейтингов платформ Xbox One и PC равны.\n",
    "    H1 - Средние отличаются.\n",
    "Вначале сравним дисперсии выборок, для того, чтобы решить, является ли они схожими."
   ]
  },
  {
   "cell_type": "code",
   "execution_count": 57,
   "metadata": {},
   "outputs": [],
   "source": [
    "alpha = 0.05"
   ]
  },
  {
   "cell_type": "code",
   "execution_count": 58,
   "metadata": {},
   "outputs": [
    {
     "name": "stdout",
     "output_type": "stream",
     "text": [
      "190.69968429360694 \n",
      " 259.6295799535884\n"
     ]
    }
   ],
   "source": [
    "nan_filt = ~actual_game_data['user_score'].isna()\n",
    "Xbox_user_rscore = actual_game_data[nan_filt].query('platform == \"XOne\"')['user_score']\n",
    "PC_user_rscore = actual_game_data[nan_filt].query('platform == \"PC\"')['user_score']\n",
    "print(Xbox_user_rscore.var(), '\\n',\n",
    "      PC_user_rscore.var())"
   ]
  },
  {
   "cell_type": "markdown",
   "metadata": {},
   "source": [
    "Так как диспресии различаютс, то equal_var = False"
   ]
  },
  {
   "cell_type": "code",
   "execution_count": 59,
   "metadata": {},
   "outputs": [
    {
     "name": "stdout",
     "output_type": "stream",
     "text": [
      "p_value: 0.6267602271422468\n",
      "Не можем отвергнуть нулевую гипотезу\n"
     ]
    }
   ],
   "source": [
    "results = st.ttest_ind(\n",
    "        Xbox_user_rscore,\n",
    "        PC_user_rscore)\n",
    "\n",
    "print('p_value:', results.pvalue)\n",
    "if results.pvalue < alpha:\n",
    "    print('Отвергаем нулевую гипотезу')\n",
    "else:\n",
    "    print('Не можем отвергнуть нулевую гипотезу')"
   ]
  },
  {
   "cell_type": "code",
   "execution_count": 60,
   "metadata": {},
   "outputs": [
    {
     "data": {
      "image/png": "[encoded data removed]",
      "text/plain": [
       "<Figure size 432x288 with 1 Axes>"
      ]
     },
     "metadata": {},
     "output_type": "display_data"
    },
    {
     "data": {
      "image/png": "[encoded data removed]",
      "text/plain": [
       "<Figure size 432x288 with 1 Axes>"
      ]
     },
     "metadata": {},
     "output_type": "display_data"
    }
   ],
   "source": [
    "sns.boxplot(Xbox_user_rscore);\n",
    "plt.show()\n",
    "sns.boxplot(PC_user_rscore);"
   ]
  },
  {
   "cell_type": "markdown",
   "metadata": {},
   "source": [
    "### Вывод\n",
    "Мы не можем отвергнуть нулевую гипотезу, следовательно мы не можем сказать, что значение пользовательских рейтингов для Xbox One и PC различаются."
   ]
  },
  {
   "cell_type": "markdown",
   "metadata": {},
   "source": [
    "### 4.2 Средние пользовательских рейтингов жанров Action и Sports разные.\n",
    "Сформулируем нулевую гипотезу H0.\n",
    "\n",
    "    H0 - Средние пользовательских рейтингов Action и Sports равны.\n",
    "    H1 - Средние отличаются.\n",
    "Вначале сравним дисперсии выборок, для того, чтобы решить, является ли они схожими."
   ]
  },
  {
   "cell_type": "code",
   "execution_count": 61,
   "metadata": {},
   "outputs": [
    {
     "name": "stdout",
     "output_type": "stream",
     "text": [
      "181.15458435291382 \n",
      " 289.3081967213115\n"
     ]
    }
   ],
   "source": [
    "Action_user_rscore = actual_game_data[nan_filt].query('genre == \"Action\"')['user_score']\n",
    "Sports_user_rscore = actual_game_data[nan_filt].query('genre == \"Sports\"')['user_score']\n",
    "print(Action_user_rscore.var(), '\\n',\n",
    "      Sports_user_rscore.var())"
   ]
  },
  {
   "cell_type": "code",
   "execution_count": 62,
   "metadata": {},
   "outputs": [
    {
     "name": "stdout",
     "output_type": "stream",
     "text": [
      "p_value: 6.414148858028273e-24\n",
      "Отвергаем нулевую гипотезу\n"
     ]
    }
   ],
   "source": [
    "results = st.ttest_ind(\n",
    "        Action_user_rscore,\n",
    "        Sports_user_rscore)\n",
    "\n",
    "print('p_value:', results.pvalue)\n",
    "if results.pvalue < alpha:\n",
    "    print('Отвергаем нулевую гипотезу')\n",
    "else:\n",
    "    print('Не можем отвергнуть нулевую гипотезу')"
   ]
  },
  {
   "cell_type": "code",
   "execution_count": 63,
   "metadata": {},
   "outputs": [
    {
     "data": {
      "image/png": "[encoded data removed]",
      "text/plain": [
       "<Figure size 432x288 with 1 Axes>"
      ]
     },
     "metadata": {},
     "output_type": "display_data"
    },
    {
     "data": {
      "image/png": "[encoded data removed]",
      "text/plain": [
       "<Figure size 432x288 with 1 Axes>"
      ]
     },
     "metadata": {},
     "output_type": "display_data"
    }
   ],
   "source": [
    "sns.boxplot(Sports_user_rscore);\n",
    "plt.show()\n",
    "sns.boxplot(Action_user_rscore);"
   ]
  },
  {
   "cell_type": "markdown",
   "metadata": {},
   "source": [
    "### Выводы\n",
    "Хоть распределения пользовательского рейтинга по этим двум жанрам и похожи, но статистически мы вынуждены отвергнуть гипотезу о том, что средние этих выборок равны."
   ]
  },
  {
   "cell_type": "markdown",
   "metadata": {},
   "source": [
    "## Выводы по разделу.\n"
   ]
  },
  {
   "cell_type": "markdown",
   "metadata": {},
   "source": [
    "Статистический анализ показал, что мы не можем отвергнуть гипотезу о том, что средние пользовательский рейтинги PC и Xbox One отличаются. Следовательно, пользовательские рейтинги по разным платформам могут быть распределены схожим образом. Но при этом существуют статистические различия по рейтингам разных жанров игр."
   ]
  },
  {
   "cell_type": "markdown",
   "metadata": {},
   "source": [
    "# Общий вывод.\n",
    "\n",
    "Мы провели исследование данных по играм продаваемых в интернет-магазине «Стримчик». В начала анализа мы избавились от строк, в которых были пропущенны данные о годе выхода и названиях игр, а также от тех, в которых отсутствует информация об оценках.\n",
    "\n",
    "Проанализировав количество вышедших игр в год и средний цикл жизни игровой платформы, нами был определен год, после которого мы можем считать данные актуальными - 2008.\n",
    "Следующие платформы были признаны потенциально прибыльными:\n",
    " - PS4;\n",
    " - XOne;\n",
    " - WiiU;\n",
    " - PC.\n",
    " \n",
    "Распределение продаж игр по платформам показало, что игровые платформы имеют схожие распределения продаж, при этом большой вклад в общие продажи вносят отдельные игры, суммарные продажи которых, больше 5 млн копий.\n",
    "\n",
    "При исследовании влияния оценок на продажи игр, мы обнаружили, что группа игр имеет большие различия в оценках критиков и пользователей, иногда доходящие до 20-30 пунктов. Такие различия мы можем списать на ангажированность игровых критиков, которые до выхода игр в общий доступ, подогревают интерес к игре, завышая оценки. Если отбросить эту группу игр, то имеем схожие значения коэффициента корреляции между оценкой пользователей, критиков и количеством проданных копий игры.\n",
    "- all_sales/critic_score = 0.49\n",
    "- all_sales/user_score = 0.35\n",
    "- critic_score/user_score = 0.84\n",
    "\n",
    "При этом, если не учитывать аномальную группу игр, то получим следующие коэффициенты:\n",
    "- all_sales/critic_score = 0.43\n",
    "- all_sales/user_score = 0.13\n",
    "- critic_score/user_score = 0.64\n",
    "\n",
    "Нами были выделены наиболее прибыльные жанры игр:\n",
    "- Platform \n",
    "- Shooter  \n",
    "- Sports \n",
    "\n",
    "Проанализировав средний портрет пользователя по региону продажи, мы можем сделать следующие рекомендации для выбора потенциально прибыльного продукта:\n",
    "\n",
    "Для региона NA:\n",
    "- самой распространенной платформой является `Xbox`(32% от всех проданных игр);\n",
    "- самыми продаваемыми жанрами являются `Shooter`(21%), `Action`(25%) и `Sports`(16%);\n",
    "- можно не учитывать возрастной рейтинг.\n",
    "\n",
    "Для региона EU:\n",
    "- нет сильной привязанности к платформе, допустимыми могут быть, как `PS`(26%), так и `Xbox`(22%) с `PC`(9%);\n",
    "- самыми продаваемыми жанрами являются `Shooter`(20%), `Action`(27%) и `Sports`(14%), но также стоит учитывать и `Racing`(8%);\n",
    "- можно не учитывать возрастной рейтинг.\n",
    "\n",
    "Для региона JP:\n",
    "- больше всего игр прдается для местных платформ -`PS`, `DS`, большей популярностью пользуются портативные игровые приставки;\n",
    "- самыми популярными жанрами являются `Role-Playing`(29%), `Action`(21%) и `Platform`(10%);\n",
    "- более половины всех проданных игр - не имеют возрастного рейтинга, а те, которые имеют - почти не имеют рейтинга `M`\n",
    "\n",
    "Общие рекомендации:\n",
    "- Количество проданных копий игры сильно зависит от оценки критиков, коэффициент корреляции - 0.49;\n",
    "- Можно считать, что оценки не различаются по платформам, но для каждого жанра необходимо делать свою выборку;\n",
    "- Необходимо делать акцент на платформы нового поколения `PS4`, `Xbox One` и `WiiU`.\n"
   ]
  }
 ],
 "metadata": {
  "kernelspec": {
   "display_name": "Python 3",
   "language": "python",
   "name": "python3"
  },
  "language_info": {
   "codemirror_mode": {
    "name": "ipython",
    "version": 3
   },
   "file_extension": ".py",
   "mimetype": "text/x-python",
   "name": "python",
   "nbconvert_exporter": "python",
   "pygments_lexer": "ipython3",
   "version": "3.7.9"
  }
 },
 "nbformat": 4,
 "nbformat_minor": 2
}
